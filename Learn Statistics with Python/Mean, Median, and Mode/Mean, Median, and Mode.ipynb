{
 "cells": [
  {
   "cell_type": "markdown",
   "metadata": {},
   "source": [
    "MEAN\n",
    "Calculating Mean\n",
    "The mean, often referred to as the average, is a way to measure the center of a dataset.\n",
    "\n",
    "The average of a set is calculated using a two-step process:\n",
    "\n",
    "Add all of the observations in your dataset.\n",
    "Divide the total sum from step one by the number of points in your dataset.\n",
    "\n",
    "$\\bar{x} = \\frac{x_1 + x_2 … + x_{n}}{n} $\n",
    "\t \n",
    "The equation above is used to calculate mean. x1, x2, … xn are observations from a dataset of n observations.\n",
    "\n",
    "Example\n",
    "Imagine that we wanted to calculate average of a dataset with the following four observations:\n",
    "\n",
    "    data = [4, 6, 2, 8]\n",
    "    Step One: Calculate the total\n",
    "    4 + 6 + 2 + 8 = 204+6+2+8=20\n",
    "    \n",
    "Step Two: Divide by the number of observations\n",
    "The total is equal to 20, and the number of observations is equal to 4.\n",
    "\n",
    "$\\frac{20}{4} = 5 $\n",
    "\n",
    "The average of this dataset is equal to 5."
   ]
  },
  {
   "cell_type": "code",
   "execution_count": 1,
   "metadata": {},
   "outputs": [
    {
     "name": "stdout",
     "output_type": "stream",
     "text": [
      "The sum total is equal to: 163\n",
      "The mean value is equal to: 40.75\n"
     ]
    }
   ],
   "source": [
    "# Set total equal to the sum\n",
    "total = (29+49+42+43)\n",
    "\n",
    "# Set mean_value equal to the mean\n",
    "mean_value = total/4\n",
    "\n",
    "# The following code prints the total and mean\n",
    "print(\"The sum total is equal to: \" + str(total))\n",
    "print(\"The mean value is equal to: \" + str(mean_value))"
   ]
  },
  {
   "cell_type": "code",
   "execution_count": null,
   "metadata": {},
   "outputs": [],
   "source": []
  },
  {
   "cell_type": "markdown",
   "metadata": {},
   "source": [
    "# NumPy Average\n",
    "\n",
    "While you’ve shown that you can calculate the average yourself, it becomes time-consuming as the size of your dataset increases — imagine adding all of the numbers in a dataset with 10,000 observations.\n",
    "\n",
    "The NumPy .average() function can do the work of adding and dividing for you. In the example below, we use np.average() to calculate the average of a dataset with ten values:\n",
    "\n",
    "    example_array = np.array([24, 16, 30, 10, 12, 28, 38, 2, 4, 36])\n",
    "\n",
    "    example_average = np.average(example_array)\n",
    "\n",
    "    print(example_average)\n",
    "    \n",
    "The code above calculates the average of example_array and saves the value to example_average. The resulting average of this array is 20."
   ]
  },
  {
   "cell_type": "code",
   "execution_count": 2,
   "metadata": {},
   "outputs": [
    {
     "name": "stdout",
     "output_type": "stream",
     "text": [
      "The average age of the 100 greatest authors, according to a survey by Le Monde, is: 42.12\n"
     ]
    }
   ],
   "source": [
    "# Import packages\n",
    "import numpy as np\n",
    "import pandas as pd\n",
    "\n",
    "# Read author data\n",
    "greatest_books = pd.read_csv(\"top-hundred-books.csv\")\n",
    "\n",
    "# Set author ages to a NumPy array\n",
    "author_ages = greatest_books['Ages']\n",
    "\n",
    "# Use numpy to calculate the average age of the top 100 authors\n",
    "average_age = np.mean(author_ages)\n",
    "\n",
    "print(\"The average age of the 100 greatest authors, according to a survey by Le Monde, is: \" + str(average_age))"
   ]
  },
  {
   "cell_type": "code",
   "execution_count": null,
   "metadata": {},
   "outputs": [],
   "source": []
  },
  {
   "cell_type": "markdown",
   "metadata": {},
   "source": [
    "# Review and Discussion\n",
    "In this lesson, you learned how to calculate the average of a dataset using the formula:\n",
    "\n",
    "$\\bar{x} = \\frac{x_1 + x_2 … + x_{n}}{n} $\n",
    "\t \n",
    "and the NumPy function:\n",
    "\n",
    "    np.average(my_array)\n",
    "    \n",
    "Circling back to the original question, do you feel like the average of our dataset, 42.12, provides us enough information to claim when someone is their most creative and productive?\n",
    "\n",
    "Take a look at the histogram and mean (in red) to the right as you consider this question.\n",
    "\n",
    "We would say, No. Though we could argue against its use for a few reasons, below, we’ve highlighted two:\n",
    "\n",
    "- The date of publication is not necessarily an author’s most creative year. When did they start authoring the book? What factors impacted their writing during those years?\n",
    "\n",
    "- The average age of the publishing dates for 100 authors may not accurately measure peak creativity in other professions. The average age of painters or sculptors may be very different.\n",
    "So, what kind of information does the average provide us, and why would we use the average to describe something when we could display a histogram?\n",
    "\n",
    "The most important outcome is that we’re able to use a single number as a measure of centrality. Although histograms provide more information, they are not a concise or precise measure of centrality — the reader must interpret it for themselves."
   ]
  },
  {
   "cell_type": "code",
   "execution_count": null,
   "metadata": {},
   "outputs": [],
   "source": []
  },
  {
   "cell_type": "code",
   "execution_count": 4,
   "metadata": {},
   "outputs": [
    {
     "name": "stdout",
     "output_type": "stream",
     "text": [
      "The average age of the 100 greatest authors, according to Le Monde is: 42.12\n"
     ]
    },
    {
     "data": {
      "image/png": "[encoded data removed]",
      "text/plain": [
       "<Figure size 432x288 with 1 Axes>"
      ]
     },
     "metadata": {
      "needs_background": "light"
     },
     "output_type": "display_data"
    }
   ],
   "source": [
    "# Import packages\n",
    "\n",
    "import numpy as np\n",
    "import pandas as pd\n",
    "\n",
    "# Import matplotlib pyplot\n",
    "from matplotlib import pyplot as plt\n",
    "\n",
    "# Read in transactions data\n",
    "greatest_books = pd.read_csv(\"top-hundred-books.csv\")\n",
    "\n",
    "# Save transaction times to a separate numpy array\n",
    "author_ages = greatest_books['Ages']\n",
    "\n",
    "# Use numpy to calculate the average age of the top 100 authors\n",
    "average_age = np.average(author_ages)\n",
    "\n",
    "print(\"The average age of the 100 greatest authors, according to Le Monde is: \" + str(average_age))\n",
    "\n",
    "# Plot the figure\n",
    "plt.hist(author_ages, range=(10, 80), bins=14,  edgecolor='black')\n",
    "plt.title(\"Age of Top 100 Novel Authors at Publication\")\n",
    "plt.xlabel(\"Publication Age\")\n",
    "plt.ylabel(\"Count\")\n",
    "plt.axvline(average_age, color='r', linestyle='solid', linewidth=2, label=\"Mean\")\n",
    "plt.legend()\n",
    "\n",
    "plt.show()"
   ]
  },
  {
   "cell_type": "code",
   "execution_count": null,
   "metadata": {},
   "outputs": [],
   "source": []
  },
  {
   "cell_type": "markdown",
   "metadata": {},
   "source": [
    "# Median\n",
    "The formal definition for the median of a dataset is:\n",
    "\n",
    "The value that, assuming the dataset is ordered from smallest to largest, falls in the middle. If there are an even number of values in a dataset, you either report both of the middle two values or their average.\n",
    "\n",
    "There are always two steps to finding the median of a dataset:\n",
    "\n",
    "Order the values in the dataset from smallest to largest\n",
    "Identify the number(s) that fall(s) in the middle\n",
    "## Example One: Even Number of Values\n",
    "Say we have a dataset with the following ten numbers:\n",
    "\n",
    "$24,\\ 16,\\ 30,\\ 10,\\ 12,\\ 28,\\ 38,\\ 2,\\ 4,\\ 3624, 16, 30, 10, 12, 28, 38, 2, 4, 36$\n",
    "\n",
    "The first step is to order these numbers from smallest to largest:\n",
    "\n",
    "$2,\\ 4,\\ 10,\\ 12,\\ [16,\\ 24],\\ 28,\\ 30,\\ 36,\\ 382, 4, 10, 12, [16, 24], 28, 30, 36, 38$\n",
    "\n",
    "Because this dataset has an even number of values, there are two medians: 16 and 24 — 16 has four datapoints to the left, and 24 has four datapoints to the right.\n",
    "\n",
    "Although you can report both values as the median, people often average them. If you averaged 16 and 24, you could report the median as 20.\n",
    "\n",
    "## Example Two: Odd Number of Values\n",
    "If we added another value (say, 24) to the dataset and sorted it, we would have:\n",
    "\n",
    "$2,\\ 4,\\ 10,\\ 12,\\ 16,\\ [24],\\ 24,\\ 28,\\ 30,\\ 36,\\ 382, 4, 10, 12, 16, [24], 24, 28, 30, 36, 38$\n",
    "\n",
    "The new median is equal to 24, because there are 5 values to the left of it, and 5 values to the right of it."
   ]
  },
  {
   "cell_type": "code",
   "execution_count": 7,
   "metadata": {},
   "outputs": [
    {
     "name": "stdout",
     "output_type": "stream",
     "text": [
      "The sorted array is: [29 32 42 43 49]\n",
      "The median of the array is: 42.0\n"
     ]
    }
   ],
   "source": [
    "import numpy as np\n",
    "\n",
    "# Array of the first five author ages\n",
    "five_author_ages = np.array([29, 49, 42, 43, 32])\n",
    "\n",
    "# Fill in the empty array with the values sorted\n",
    "sorted_author_ages = np.sort(five_author_ages)\n",
    "\n",
    "# Save the median value to median_value\n",
    "median_age = np.median(sorted_author_ages)\n",
    "\n",
    "# Print the sorted array and median value\n",
    "print(\"The sorted array is: \" + str(sorted_author_ages))\n",
    "print(\"The median of the array is: \" + str(median_age))"
   ]
  },
  {
   "cell_type": "markdown",
   "metadata": {},
   "source": [
    "# Median NumPy\n",
    "\n",
    "Finding the median of a dataset becomes increasingly time-consuming as the size of your dataset increases — imagine finding the median of an unsorted dataset with 10,000 observations.\n",
    "\n",
    "The NumPy .median() function can do the work of sorting, then finding the median for you. In the example below, we use np.median() to calculate the median of a dataset with ten values:\n",
    "\n",
    "    example_array = np.array([24, 16, 30, 10, 12, 28, 38, 2, 4, 36, 42])\n",
    "\n",
    "    example_median = np.median(example_array)\n",
    "\n",
    "    print(example_median)\n",
    "    \n",
    "The code above prints the median of the dataset, 24. The mean of this dataset is 22. It’s worth noting these two values are close to one another, but not equal."
   ]
  },
  {
   "cell_type": "code",
   "execution_count": 8,
   "metadata": {},
   "outputs": [
    {
     "name": "stdout",
     "output_type": "stream",
     "text": [
      "The median age of the 100 greatest authors, according to a survey by Le Monde is: 41.0\n"
     ]
    }
   ],
   "source": [
    "# Import packages\n",
    "import numpy as np\n",
    "import pandas as pd\n",
    "\n",
    "# Read in author data\n",
    "greatest_books = pd.read_csv(\"top-hundred-books.csv\")\n",
    "\n",
    "# Save author ages to author_ages\n",
    "author_ages = greatest_books['Ages']\n",
    "\n",
    "# Use numpy to calculate the median age of the top 100 authors\n",
    "median_age = np.median(author_ages)\n",
    "\n",
    "print(\"The median age of the 100 greatest authors, according to a survey by Le Monde is: \" + str(median_age))"
   ]
  },
  {
   "cell_type": "code",
   "execution_count": null,
   "metadata": {},
   "outputs": [],
   "source": []
  },
  {
   "cell_type": "markdown",
   "metadata": {},
   "source": [
    "# Review and Discussion\n",
    "\n",
    "In this lesson, you learned how to find the median of a dataset in two steps:\n",
    "\n",
    "Sort the dataset\n",
    "Identify the one or two numbers that fall in the middle of the sorted dataset\n",
    "You also learned how to calculate the median using NumPy:\n",
    "\n",
    "    np.median(my_array)\n",
    "    \n",
    "## Discussion\n",
    "Take a look at the histogram to the right. It displays the author age distribution with vertical lines for the mean (red) and median (yellow).\n",
    "\n",
    "Do you feel like the median of our dataset, 40.5, provides us enough information to claim when authors publish their greatest work?\n",
    "\n",
    "We argue it does not.\n",
    "\n",
    "Although the median is a good measure of the dataset’s center, we cannot make a definitive claim about when authors publish their greatest work — the youngest author published at 18 and the oldest at 76. It would be irresponsible to say anything but, “it seems to be possible at almost any age.”\n",
    "\n",
    "Notice that the mean and the median are nearly equal. This is not a surprising result, as both statistics are a measure of the dataset’s center. However, it’s worth noting that these results will not always be so close.\n",
    "\n",
    "In the instructions below, we’ve written a brief explanation that puts median in the context of our problem."
   ]
  },
  {
   "cell_type": "code",
   "execution_count": 9,
   "metadata": {},
   "outputs": [
    {
     "data": {
      "image/png": "[encoded data removed]",
      "text/plain": [
       "<Figure size 432x288 with 1 Axes>"
      ]
     },
     "metadata": {
      "needs_background": "light"
     },
     "output_type": "display_data"
    }
   ],
   "source": [
    "# Import packages\n",
    "\n",
    "import numpy as np\n",
    "import pandas as pd\n",
    "\n",
    "# Import matplotlib pyplot\n",
    "from matplotlib import pyplot as plt\n",
    "\n",
    "# Read in transactions data\n",
    "greatest_books = pd.read_csv(\"top-hundred-books.csv\")\n",
    "\n",
    "# Save transaction times to a separate numpy array\n",
    "author_ages = greatest_books['Ages']\n",
    "\n",
    "# Use numpy to calculate the average age of the top 100 authors\n",
    "average_age = np.average(author_ages)\n",
    "\n",
    "median_age = np.median(author_ages)\n",
    "\n",
    "# Plot the figure\n",
    "plt.hist(author_ages, range=(10, 80), bins=14,  edgecolor='black')\n",
    "plt.title(\"Age of Top 100 Novel Authors at Publication\")\n",
    "plt.xlabel(\"Publication Age\")\n",
    "plt.ylabel(\"Count\")\n",
    "plt.axvline(average_age, color='r', linestyle='solid', linewidth=2, label=\"Mean\")\n",
    "plt.axvline(median_age, color='y', linestyle='solid', linewidth=2, label=\"Median\")\n",
    "plt.legend()\n",
    "\n",
    "plt.show()"
   ]
  },
  {
   "cell_type": "code",
   "execution_count": null,
   "metadata": {},
   "outputs": [],
   "source": []
  },
  {
   "cell_type": "code",
   "execution_count": null,
   "metadata": {},
   "outputs": [],
   "source": []
  },
  {
   "cell_type": "markdown",
   "metadata": {},
   "source": [
    "# MODE\n",
    "## Introduction\n",
    "\n",
    "In this lesson, you will learn how to find the mode of a dataset. Each of the next three exercises will cover the following:\n",
    "\n",
    "Manually finding the mode of a dataset\n",
    "Using Python’s SciPy library to find the mode\n",
    "Comparing mode to mean and median values\n",
    "In the lesson, we will use a dataset of the 100 greatest novels, determined by a French literary magazine, Le Monde. From the dataset, you will use the mode to answer the question:\n",
    "\n",
    "What is the most common age for a great author to publish their best work?\n",
    "\n",
    "If you are not familiar with mean, also known as average, or median, we recommend that you learn about it in our lessons on average and median."
   ]
  },
  {
   "cell_type": "code",
   "execution_count": 10,
   "metadata": {},
   "outputs": [
    {
     "data": {
      "image/png": "[encoded data removed]",
      "text/plain": [
       "<Figure size 432x288 with 1 Axes>"
      ]
     },
     "metadata": {
      "needs_background": "light"
     },
     "output_type": "display_data"
    }
   ],
   "source": [
    "# Import packages\n",
    "\n",
    "import numpy as np\n",
    "import pandas as pd\n",
    "\n",
    "# Import matplotlib pyplot\n",
    "from matplotlib import pyplot as plt\n",
    "\n",
    "# Read in transactions data\n",
    "greatest_books = pd.read_csv(\"top-hundred-books.csv\")\n",
    "\n",
    "# Save transaction times to a separate numpy array\n",
    "author_ages = greatest_books['Ages']\n",
    "\n",
    "# Use numpy to calculate the average age of the top 100 authors\n",
    "average_age = np.mean(author_ages)\n",
    "median_age = np.median(author_ages)\n",
    "\n",
    "# Plot the figure\n",
    "plt.hist(author_ages, range=(10, 80), bins=14,  edgecolor='black')\n",
    "plt.title(\"Age of Top 100 Novel Authors at Publication\")\n",
    "plt.xlabel(\"Publication Age\")\n",
    "plt.ylabel(\"Count\")\n",
    "plt.axvline(average_age, color='r', linestyle='solid', linewidth=2, label=\"mean\")\n",
    "plt.axvline(median_age, color='y', linestyle='dotted', linewidth=3, label=\"median\")\n",
    "plt.legend()\n",
    "\n",
    "plt.show()"
   ]
  },
  {
   "cell_type": "code",
   "execution_count": null,
   "metadata": {},
   "outputs": [],
   "source": [
    "\n"
   ]
  },
  {
   "cell_type": "markdown",
   "metadata": {},
   "source": [
    "# Mode\n",
    "The formal definition for the mode of a dataset is:\n",
    "\n",
    "The most frequently occurring observation in the dataset. A dataset can have multiple modes if there is more than one value with the same maximum frequency.\n",
    "\n",
    "While you may be able to find the mode of a small dataset by simply looking through it, if you have trouble, we recommend you follow these two steps:\n",
    "\n",
    "Find the frequency of every unique number in the dataset\n",
    "Determine which number has the highest frequency\n",
    "Example\n",
    "Say we have a dataset with the following ten numbers:\n",
    "\n",
    "$24,\\ 16,\\ 12,\\ 10,\\ 12,\\ 28,\\ 38,\\ 12,\\ 28,\\ 2424, 16, 12, 10, 12, 28, 38, 12, 28, 24$\n",
    "\n",
    "Let’s find the frequency of each number:\n",
    "\n",
    "|24|\t16|\t12|\t10|\t28|\t38|\n",
    "|---|---|---|---|---|---|\n",
    "|2|\t1|\t3|\t1|\t2|\t1|\n",
    "\n",
    "From the table, we can see that our mode is 12, the most frequent number in our dataset."
   ]
  },
  {
   "cell_type": "code",
   "execution_count": 11,
   "metadata": {},
   "outputs": [
    {
     "name": "stdout",
     "output_type": "stream",
     "text": [
      "The ages of the first ten authors is: [29 49 42 43 32 38 37 41 27 27]\n",
      "The mode of the first ten authors is: 27\n",
      "The number of authors who were 27 when their book was published is 2\n"
     ]
    }
   ],
   "source": [
    "import numpy as np\n",
    "\n",
    "# Set first_ten_authors equal to their ages\n",
    "first_ten_authors = np.array([29, 49, 42, 43, 32, 38, 37, 41, 27, 27])\n",
    "\n",
    "# Save the mode value to mode_age\n",
    "mode_age = 27\n",
    "\n",
    "# Save the count of authors with the mode age\n",
    "mode_count = 2\n",
    "\n",
    "# Print the sorted array and median value\n",
    "print(\"The ages of the first ten authors is: \" + str(first_ten_authors))\n",
    "print(\"The mode of the first ten authors is: \" + str(mode_age))\n",
    "print(\"The number of authors who were \" + str(mode_age) + \" when their book was published is \" + str(mode_count))"
   ]
  },
  {
   "cell_type": "code",
   "execution_count": null,
   "metadata": {},
   "outputs": [],
   "source": []
  },
  {
   "cell_type": "markdown",
   "metadata": {},
   "source": [
    "# Mode SciPy\n",
    "Finding the mode of a dataset becomes increasingly time-consuming as the size of your dataset increases — imagine finding the mode of a dataset with 10,000 observations.\n",
    "\n",
    "The SciPy stats.mode() function can do the work of finding the mode for you. In the example below, we import stats then use stats.mode() to calculate the mode of a dataset with ten values:\n",
    "\n",
    "## Example: One Mode\n",
    "\n",
    "    from scipy import stats\n",
    "\n",
    "    example_array = np.array([24, 16, 12, 10, 12, 28, 38, 12, 28, 24])\n",
    "\n",
    "    example_mode = stats.mode(example_array)\n",
    "    \n",
    "The code above calculates the mode of the values in example_array and saves it to example_mode.\n",
    "\n",
    "The result of stats.mode() is an object with the mode value, and its count.\n",
    "\n",
    "    >>> example_mode\n",
    "    ModeResult(mode=array([12]), count=array([3]))\n",
    "\n",
    "## Example: Two Modes\n",
    "If there are multiple modes, the stats.mode() function will always return the smallest mode in the dataset.\n",
    "\n",
    "Let’s look at an array with two modes, 12 and 24:\n",
    "\n",
    "    from scipy import stats\n",
    "\n",
    "    example_array = np.array([24, 16, 12, 10, 12, 24, 38, 12, 28, 24])\n",
    "\n",
    "    example_mode = stats.mode(example_array)\n",
    "    \n",
    "The result of stats.mode() is an object with the smallest mode value, and its count.\n",
    "\n",
    "    >>> example_mode\n",
    "    ModeResult(mode=array([12]), count=array([3]))"
   ]
  },
  {
   "cell_type": "code",
   "execution_count": 13,
   "metadata": {},
   "outputs": [
    {
     "name": "stdout",
     "output_type": "stream",
     "text": [
      "The mode age and its frequency of authors from Le Monde's 100 greatest books is: 38 and 7\n"
     ]
    }
   ],
   "source": [
    "# Import packages\n",
    "import numpy as np\n",
    "import pandas as pd\n",
    "from scipy import stats\n",
    "\n",
    "# Read in author data\n",
    "greatest_books = pd.read_csv(\"top-hundred-books.csv\")\n",
    "\n",
    "# Save author ages to author_ages\n",
    "author_ages = greatest_books['Ages']\n",
    "\n",
    "# Use numpy to calculate the mode age of the top 100 authors\n",
    "mode_age = stats.mode(author_ages)\n",
    "\n",
    "print(\"The mode age and its frequency of authors from Le Monde's 100 greatest books is: \" + str(mode_age[0][0]) + \" and \" + str(mode_age[1][0]))"
   ]
  },
  {
   "cell_type": "code",
   "execution_count": null,
   "metadata": {},
   "outputs": [],
   "source": []
  },
  {
   "cell_type": "code",
   "execution_count": null,
   "metadata": {},
   "outputs": [],
   "source": []
  },
  {
   "cell_type": "markdown",
   "metadata": {},
   "source": [
    "# Review and Discussion\n",
    "\n",
    "In this lesson, you learned how to find the mode of a dataset in two steps:\n",
    "\n",
    "Find the frequency of every unique number in the dataset\n",
    "Determine which number has the highest frequency\n",
    "You also learned how to calculate the mode using SciPy:\n",
    "\n",
    "    stats.mode(my_array)\n",
    "    \n",
    "## Discussion\n",
    "In this lesson, you found that 38 was the most common age, at publication, for an author from the Le Monde survey. How does this number compare to your guess from the beginning of the lesson?\n",
    "\n",
    "The mode is close to the median and mean of the dataset, but it is not in the tallest bucket. This should not be surprising, as the histogram indicates the data is centered between the ages of 30 and 50 — there is a higher chance of a mode in that range than outside of it.\n",
    "\n",
    "The mode is not always this close to the median and mean, and often will not be in the tallest bucket.\n",
    "\n",
    "Look at the 25-30 year-old bin. There are nine observations in it. If all the values in that bin happened to be 27, then the dataset’s mode would be 27. Although unlikely, it is possible. Below, we show what this would look like:\n",
    "\n",
    "\n",
    "\n",
    "Based on this graph, it is fair to say the mode may not always be a great measure of where the data is centered. Simply put, mode is a measure of the most frequent observation in the dataset, and is not an indication of the tallest bin in a histogram.\n",
    "\n",
    "In the instructions below, we’ve written a brief explanation that puts mode in the context of our problem."
   ]
  },
  {
   "cell_type": "code",
   "execution_count": 14,
   "metadata": {},
   "outputs": [
    {
     "data": {
      "image/png": "[encoded data removed]",
      "text/plain": [
       "<Figure size 432x288 with 1 Axes>"
      ]
     },
     "metadata": {
      "needs_background": "light"
     },
     "output_type": "display_data"
    }
   ],
   "source": [
    "# Import packages\n",
    "\n",
    "import numpy as np\n",
    "import pandas as pd\n",
    "from scipy import stats\n",
    "\n",
    "# Import matplotlib pyplot\n",
    "from matplotlib import pyplot as plt\n",
    "\n",
    "# Read in transactions data\n",
    "greatest_books = pd.read_csv(\"top-hundred-books.csv\")\n",
    "\n",
    "# Save transaction times to a separate numpy array\n",
    "author_ages = greatest_books['Ages']\n",
    "\n",
    "# Calculate the average and median value of the author_ages array\n",
    "average_age = np.average(author_ages)\n",
    "median_age = np.median(author_ages)\n",
    "mode_age = 38\n",
    "\n",
    "# Plot the figure\n",
    "plt.hist(author_ages, range=(10, 80), bins=14,  edgecolor='black')\n",
    "plt.title(\"Author Ages at Publication\")\n",
    "plt.xlabel(\"Publication Age\")\n",
    "plt.ylabel(\"Count\")\n",
    "plt.axvline(average_age, color='r', linestyle='solid', linewidth=3, label=\"Mean\")\n",
    "plt.axvline(median_age, color='y', linestyle='dotted', linewidth=3, label=\"Median\")\n",
    "plt.axvline(mode_age, color='orange', linestyle='dashed', linewidth=3, label=\"Mode\")\n",
    "plt.legend()\n",
    "\n",
    "plt.show()"
   ]
  },
  {
   "cell_type": "code",
   "execution_count": null,
   "metadata": {},
   "outputs": [],
   "source": []
  }
 ],
 "metadata": {
  "kernelspec": {
   "display_name": "Python 3",
   "language": "python",
   "name": "python3"
  },
  "language_info": {
   "codemirror_mode": {
    "name": "ipython",
    "version": 3
   },
   "file_extension": ".py",
   "mimetype": "text/x-python",
   "name": "python",
   "nbconvert_exporter": "python",
   "pygments_lexer": "ipython3",
   "version": "3.7.3"
  }
 },
 "nbformat": 4,
 "nbformat_minor": 2
}
