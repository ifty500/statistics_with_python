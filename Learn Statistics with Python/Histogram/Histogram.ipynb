{
 "cells": [
  {
   "cell_type": "markdown",
   "metadata": {},
   "source": [
    "# Introduction\n",
    "\n",
    "Statistics is often pitched as a way to find certainty through data. As you’ll learn in this lesson, the power of statistics is more often used to communicate that certainty doesn’t really exist. Instead, it provides tools to communicate how uncertain we are about a problem.\n",
    "\n",
    "There’s no better tool to visualize the uncertainty and chaos in data than a histogram. A histogram displays the distribution of your underlying data.\n",
    "\n",
    "Histograms reveal, through numbers, interpretable trends in your data. They don’t provide a yes or no answer, but are often used as a starting point for discussion and informing an answer to your data.\n",
    "\n",
    "Whether you’re brand new to statistics or know it well, this lesson will teach you how to use histograms to visualize your data and inform decision-making."
   ]
  },
  {
   "cell_type": "markdown",
   "metadata": {},
   "source": [
    "## Instructions\n",
    "Take a look at the histogram to the right. It shows the distribution of possible calories in a burrito bowl at a fast-casual Mexican restaurant. If you don’t understand the plot, that’s okay. We’ll discuss it throughout this lesson.\n",
    "\n",
    "Below, I’ve listed a few questions that someone may ask after looking over this histogram:\n",
    "\n",
    "How many calories should a restaurant say is in their burrito bowl?\n",
    "What is so different about the burrito bowls with 600 calories, and those with 1000 calories?\n",
    "What can the restaurant change to ensure they are consistently serving burrito bowls with the same number of calories?"
   ]
  },
  {
   "cell_type": "code",
   "execution_count": 2,
   "metadata": {},
   "outputs": [
    {
     "data": {
      "image/png": "[encoded data removed]",
      "text/plain": [
       "<Figure size 432x288 with 1 Axes>"
      ]
     },
     "metadata": {
      "needs_background": "light"
     },
     "output_type": "display_data"
    }
   ],
   "source": [
    "# Import packages\n",
    "\n",
    "import numpy as np\n",
    "import pandas as pd\n",
    "\n",
    "# Import matplotlib pyplot\n",
    "from matplotlib import pyplot as plt\n",
    "\n",
    "# Read in transactions data\n",
    "mu, sigma = 800, 100 # mean and standard deviation\n",
    "burrito_calories = np.random.normal(mu, sigma, 320)\n",
    "\n",
    "# Save transaction times to a separate numpy array\n",
    "plt.hist(burrito_calories, range=(250, 1250), bins=100,  edgecolor='black')\n",
    "plt.title(\"Calories in a Burrito Bowl\", fontsize = 24)\n",
    "plt.xlabel(\"Calories\", fontsize=18)\n",
    "plt.ylabel(\"Count\", fontsize=18)\n",
    "\n",
    "plt.show()"
   ]
  },
  {
   "cell_type": "code",
   "execution_count": null,
   "metadata": {},
   "outputs": [],
   "source": []
  },
  {
   "cell_type": "markdown",
   "metadata": {},
   "source": [
    "# Summarizing Your Data\n",
    "The purpose of a histogram is to summarize data that you can use to inform a decision or explain a distribution.\n",
    "\n",
    "While a histogram is one of the most useful tools for communicating trends, people often use the average of a dataset to make broad claims about its underlying trends.\n",
    "\n",
    "While the average value of data may be useful to interpret where the data is centered, it can also be misleading.\n",
    "\n",
    "Average grocery store time\n",
    "Throughout this lesson, you will analyze grocery store data to understand how a histogram may be a better tool for communicating trends in your data. You will use this data to determine the best times for a manager to staff their store.\n",
    "\n",
    "Let’s start by looking at our data and calculating the average time that a person will enter the grocery store."
   ]
  },
  {
   "cell_type": "code",
   "execution_count": 5,
   "metadata": {},
   "outputs": [
    {
     "name": "stdout",
     "output_type": "stream",
     "text": [
      "    Transaction Time        Cost\n",
      "0           7.939419   98.422021\n",
      "1           4.314811   87.329861\n",
      "2           6.394080  112.334882\n",
      "3           7.031504   87.570689\n",
      "4           5.840730   97.321191\n",
      "5           8.788381  101.811285\n",
      "6           9.280434   98.577376\n",
      "7           9.895657  105.008439\n",
      "8           8.589158  113.937788\n",
      "9           8.809518   87.872388\n",
      "10          7.812050   97.869625\n",
      "11         11.253126  105.762365\n",
      "12          9.886032   92.916043\n",
      "13          6.391906   99.923255\n",
      "14          5.543391  124.809277\n",
      "15          6.144630   85.863231\n",
      "16          7.887559  154.678431\n",
      "17          6.046696   84.701346\n",
      "18          8.654821   97.860172\n",
      "19         10.385374  117.462742\n",
      "\n",
      "14.943439668312365\n"
     ]
    }
   ],
   "source": [
    "# Import packages\n",
    "import numpy as np\n",
    "import pandas as pd\n",
    "\n",
    "# Read in transactions data\n",
    "transactions = pd.read_csv(\"transactions.csv\")\n",
    "transactions = transactions.drop([\"Unnamed: 0\"], axis = 1)\n",
    "\n",
    "# Save transaction times to a separate numpy array\n",
    "times = transactions[\"Transaction Time\"].values\n",
    "cost = transactions[\"Cost\"].values\n",
    "\n",
    "# Print transactions below\n",
    "print(transactions.head(20))\n",
    "print('')\n",
    "# Print the average times below\n",
    "print(np.average(times))"
   ]
  },
  {
   "cell_type": "code",
   "execution_count": null,
   "metadata": {},
   "outputs": [],
   "source": []
  },
  {
   "cell_type": "markdown",
   "metadata": {},
   "source": [
    "# Range\n",
    "\n",
    "Histograms are helpful for understanding how your data is distributed. While the average time a customer may arrive at the grocery store is 3 pm, the manager knows 3 pm is not the busiest time of day.\n",
    "\n",
    "Before identifying the busiest times of the day, it’s important to understand the extremes of your data: the minimum and maximum values in your dataset. With the minimums and maximums, you can calculate the range.\n",
    "\n",
    "The range of your data is the difference between the maximum value and the minimum value in your dataset.\n",
    "\n",
    "$range = max(data)\\ -\\ min(data)$\n",
    "\n",
    "### Exercise Class Example\n",
    "In the example below, we have a NumPy array with the ages of people in an exercise class. Before looking at the data, let’s think about what minimum, maximum, and range values are reasonable for a group of people in an exercise class:\n",
    "\n",
    "The minimum cannot be below 0, because people don’t have negative ages\n",
    "The maximum is probably lower than 122 (the oldest person ever).\n",
    "Now, let’s take a look at our data.\n",
    "\n",
    "    exercise_ages = np.array([22, 27, 45, 62, 34, 52, 42, 22, 34, 26])\n",
    "The minimum age in exercise_ages is 22, the maximum age is 62, and the range is 40.\n",
    "\n",
    "You can use the following Python commands to verify this result:\n",
    "\n",
    "    min_age = np.amin(exercise_ages) # Answer is 22\n",
    "    max_age = np.amax(exercise_ages) # Answer is 62\n",
    "    age_range = max_age - min_age"
   ]
  },
  {
   "cell_type": "code",
   "execution_count": 6,
   "metadata": {},
   "outputs": [
    {
     "name": "stdout",
     "output_type": "stream",
     "text": [
      "Earliest Time: 0.02661518360957871\n",
      "Latest Time: 23.675374635328755\n",
      "Time Range: 23.648759451719176\n"
     ]
    }
   ],
   "source": [
    "# Import packages\n",
    "import numpy as np\n",
    "import pandas as pd\n",
    "\n",
    "# Read in transactions data\n",
    "transactions = pd.read_csv(\"transactions.csv\")\n",
    "\n",
    "# Save transaction data to numpy arrays\n",
    "times = transactions[\"Transaction Time\"].values\n",
    "cost = transactions[\"Cost\"].values\n",
    "\n",
    "# Find the minimum time, maximum time, and range\n",
    "min_time = min(times) # <-- Replace with min calc\n",
    "max_time = max(times) # <-- Replace with max calc\n",
    "range_time = max_time-min_time # <-- Replace max - min\n",
    "\n",
    "# Printing the values\n",
    "print(\"Earliest Time: \" + str(min_time))\n",
    "print(\"Latest Time: \" + str(max_time))\n",
    "print(\"Time Range: \" + str(range_time))"
   ]
  },
  {
   "cell_type": "code",
   "execution_count": null,
   "metadata": {},
   "outputs": [],
   "source": []
  },
  {
   "cell_type": "markdown",
   "metadata": {},
   "source": [
    "# Bins and Count I\n",
    "In the previous exercise, you found that the earliest transaction time is close to 0, and the latest transaction is close to 24, making your range nearly 24 hours.\n",
    "\n",
    "Now, we have the information we need to start building our histogram. The two key features of a histogram are bins and counts.\n",
    "\n",
    "### Bins\n",
    "A bin is a sub-range of values that falls within the range of a dataset. In the grocery store example, a valid bin may be from 0 hours to 6 hours. This bin includes all times from just after midnight (0) until 6 am (6).\n",
    "\n",
    "Additionally, all bins in a histogram must be the same width.\n",
    "\n",
    "If the range of values in our dataset is from 0 to 24, and the first bin in our grocery store example is from 0 to 6, can you figure out the minimums and maximums of the other bins?\n",
    "\n",
    "The grocery store bins are:\n",
    "\n",
    "    0 to 6 hours\n",
    "    6 to 12 hours\n",
    "    12 to 18 hours\n",
    "    18 to 24 hours"
   ]
  },
  {
   "cell_type": "code",
   "execution_count": 8,
   "metadata": {},
   "outputs": [
    {
     "name": "stdout",
     "output_type": "stream",
     "text": [
      "Bins: 3\n",
      "Bin Width: 3.0\n"
     ]
    }
   ],
   "source": [
    "# Import packages\n",
    "import numpy as np\n",
    "import pandas as pd\n",
    "\n",
    "# Array of days old bread\n",
    "days_old_bread = np.array([0, 8, 7, 8, 0, 2, 3, 5, 6, 2])\n",
    "\n",
    "# Set the minimum and maximums of the array below\n",
    "min_days_old = min(days_old_bread)\n",
    "max_days_old = max(days_old_bread)\n",
    "\n",
    "# Set the number of bins to 3\n",
    "bins = 3\n",
    "\n",
    "# Calculate the bin range\n",
    "try:\n",
    "    bin_range = (max_days_old - min_days_old + 1) / bins\n",
    "    print(\"Bins: \" + str(bins))\n",
    "    print(\"Bin Width: \" + str(bin_range))\n",
    "# Printing the values\n",
    "except:\n",
    "    print(\"You have not set the min, max, or bins values yet.\")"
   ]
  },
  {
   "cell_type": "code",
   "execution_count": null,
   "metadata": {},
   "outputs": [],
   "source": []
  },
  {
   "cell_type": "code",
   "execution_count": null,
   "metadata": {},
   "outputs": [],
   "source": []
  },
  {
   "cell_type": "markdown",
   "metadata": {},
   "source": [
    "# Bins and Count II\n",
    "A count is the number of values that fall within a bin’s range. For example, if 100 customers arrive at your grocery store between midnight (0) and 6 am (6), your count for that bin is equal to 100.\n",
    "\n",
    "### Exercise Class Example\n",
    "In the example below, we have an array with ten values in it, each representing the age of a person in an exercise class. We want to calculate the number of students who are in their 20s, 30s, 40s, 50s, and 60s.\n",
    "\n",
    "    exercise_ages = np.array([20, 27, 45, 69, 34, 52, 42, 22, 34, 26])\n",
    "    \n",
    "Question: What is our range?\n",
    "\n",
    "Answer: Between 20 and 69.\n",
    "\n",
    "Question: How many bins do we need?\n",
    "\n",
    "Answer: The bins are 20s, 30s, 40s, 50s, and 60s, so we need five bins, each covering ten years.\n",
    "\n",
    "The table below shows the number of people in each binned age group:\n",
    "\n"
   ]
  },
  {
   "cell_type": "code",
   "execution_count": 9,
   "metadata": {},
   "outputs": [
    {
     "name": "stdout",
     "output_type": "stream",
     "text": [
      "Between 0 and 2 days: 4\n",
      "Between 3 and 5 days: 2\n",
      "Between 6 and 8 days: 4\n"
     ]
    }
   ],
   "source": [
    "# Import packages\n",
    "import numpy as np\n",
    "import pandas as pd\n",
    "\n",
    "# Array of days old bread\n",
    "days_old_bread = np.array([0, 8, 7, 8, 0, 2, 3, 5, 6, 2])\n",
    "\n",
    "# Count the values in each bin \n",
    "days_old_012 = 4\n",
    "days_old_345 = 2\n",
    "days_old_678 = 4\n",
    "\n",
    "# Printing the values\n",
    "print(\"Between 0 and 2 days: \" + str(days_old_012))\n",
    "print(\"Between 3 and 5 days: \" + str(days_old_345))\n",
    "print(\"Between 6 and 8 days: \" + str(days_old_678))"
   ]
  },
  {
   "cell_type": "code",
   "execution_count": null,
   "metadata": {},
   "outputs": [],
   "source": []
  },
  {
   "cell_type": "code",
   "execution_count": null,
   "metadata": {},
   "outputs": [],
   "source": []
  },
  {
   "cell_type": "markdown",
   "metadata": {},
   "source": [
    "# Histograms\n",
    "While counting the number of values in a bin is straightforward, it is also time-consuming. How long do you think it would take you to count the number of values in each bin for:\n",
    "\n",
    "an exercise class of 50 people?\n",
    "\n",
    "a grocery store with 300 loaves of bread?\n",
    "\n",
    "Most of the data you will analyze with histograms includes far more than ten values.\n",
    "\n",
    "For these situations, we can use the numpy.histogram() function. In the example below, we use this function to find the counts for a twenty-person exercise class.\n",
    "\n",
    "    exercise_ages = np.array([22, 27, 45, 62, 34, 52, 42, 22, 34, 26, 24, 65, 34, 25, 45, 23, 45, 33, 52, 55])\n",
    "\n",
    "    np.histogram(exercise_ages, range = (20, 70), bins = 5)\n",
    "    \n",
    "Below, we explain each of the function’s inputs:\n",
    "\n",
    "exercise_ages is the input array\n",
    "\n",
    "range = (20, 70) — is the range of values we expect in our array. Range includes everything from 20, up until but not including 70.\n",
    "\n",
    "bins = 5 is the number of bins. Python will automatically calculate equally-sized bins based on the range and number of bins.\n",
    "\n",
    "Below, you can see the output of the numpy.histogram() function:\n",
    "\n",
    "    (array([7, 4, 4, 3, 2]), array([20., 30., 40., 50., 60., 70.]))\n",
    "    \n",
    "The first array, array([7, 4, 4, 3, 2]), is the counts for each bin. The second array, array([20., 30., 40., 50., 60., 70.]), includes the minimum and maximum values for each bin:\n",
    "\n",
    "    Bin 1: 20 to <30\n",
    "    Bin 2: 30 to <40\n",
    "    Bin 3: 40 to <50\n",
    "    Bin 4: 50 to <60\n",
    "    Bin 5: 60 to <70"
   ]
  },
  {
   "cell_type": "code",
   "execution_count": 10,
   "metadata": {},
   "outputs": [
    {
     "name": "stdout",
     "output_type": "stream",
     "text": [
      "(array([101, 231, 213, 455], dtype=int64), array([ 0.,  6., 12., 18., 24.]))\n"
     ]
    }
   ],
   "source": [
    "# Import packages\n",
    "import numpy as np\n",
    "import pandas as pd\n",
    "\n",
    "# Read in transactions data\n",
    "transactions = pd.read_csv(\"transactions.csv\")\n",
    "\n",
    "# Save transaction times to a separate numpy array\n",
    "times = transactions[\"Transaction Time\"].values\n",
    "\n",
    "# Use numpy.histogram() below\n",
    "times_hist = np.histogram(times, range = (0, 24), bins = 4)\n",
    "\n",
    "print(times_hist)"
   ]
  },
  {
   "cell_type": "code",
   "execution_count": null,
   "metadata": {},
   "outputs": [],
   "source": []
  },
  {
   "cell_type": "code",
   "execution_count": null,
   "metadata": {},
   "outputs": [],
   "source": []
  },
  {
   "cell_type": "markdown",
   "metadata": {},
   "source": [
    "Plotting a Histogram\n",
    "At this point, you’ve learned how to find the numerical inputs to a histogram. Thus far the size of our datasets and bins have produced results that we can interpret. This becomes increasingly difficult as the number of bins in a histogram increases.\n",
    "\n",
    "Because of this, histograms are typically viewed graphically, with bin ranges on the x-axis and counts on the y-axis. The figure below shows the graphical representation of the histogram for our exercise class example from last exercise. Notice, there are five equally-spaced bars, with each displaying a count for an age range. Compare the graph to the table, just below it.\n",
    "\n",
    "<img src=images/age-distribution.png width=400>\n",
    "\n",
    "\n",
    "\n",
    "|20-29|\t30-39|\t40-49|\t50-59|\t60-69|\n",
    "|---|---|---|---|---|\n",
    "|7\t|4\t|4\t|3\t|2  |\n",
    "\n",
    "Histograms are an easy way to visualize trends in your data. When I look at the above graph, I think, “More people in the exercise class are in their twenties than any other decade. Additionally, the histogram is skewed, indicating the class is made of more younger people than older people.”\n",
    "\n",
    "We created the plot above using the matplotlib.pyplot package. We imported the package using the following code:\n",
    "\n",
    "    from matplotlib import pyplot as plt\n",
    "    \n",
    "We plotted the histogram with the following code. Notice, the range and bins arguments are the same as we used in the last exercise:\n",
    "\n",
    "    plt.hist(exercise_ages, range = (20, 70), bins = 5, edgecolor='black')\n",
    "\n",
    "    plt.title(\"Decade Frequency\")\n",
    "    plt.xlabel(\"Ages\")\n",
    "    plt.ylabel(\"Count\")\n",
    "\n",
    "    plt.show()\n",
    "    \n",
    "In the code above, we used the plt.hist() function to create the plot, then added a title, x-label, and y-label before showing the graph with plt.show()."
   ]
  },
  {
   "cell_type": "code",
   "execution_count": 13,
   "metadata": {},
   "outputs": [
    {
     "data": {
      "image/png": "[encoded data removed]",
      "text/plain": [
       "<Figure size 432x288 with 1 Axes>"
      ]
     },
     "metadata": {
      "needs_background": "light"
     },
     "output_type": "display_data"
    }
   ],
   "source": [
    "# Import packages\n",
    "\n",
    "import numpy as np\n",
    "import pandas as pd\n",
    "\n",
    "# import pyplot as plt\n",
    "from matplotlib import pyplot as plt\n",
    "\n",
    "# Read in transactions data\n",
    "transactions = pd.read_csv(\"transactions.csv\")\n",
    "\n",
    "# Save transaction times to a separate numpy array\n",
    "times = transactions[\"Transaction Time\"].values\n",
    "\n",
    "# Use plt.hist() below\n",
    "plt.hist(times, range = (0, 24), bins = 4, edgecolor='black')\n",
    "\n",
    "plt.title(\"Busiest Six Hour Increments\")\n",
    "plt.xlabel(\"Times\")\n",
    "plt.ylabel(\"Count\")\n",
    "\n",
    "plt.show()"
   ]
  },
  {
   "cell_type": "code",
   "execution_count": null,
   "metadata": {},
   "outputs": [],
   "source": []
  },
  {
   "cell_type": "code",
   "execution_count": null,
   "metadata": {},
   "outputs": [],
   "source": []
  },
  {
   "cell_type": "markdown",
   "metadata": {},
   "source": [
    "# Finding your Best Bin Size\n",
    "\n",
    "The figure below displays the graph that you created in the last exercise:\n",
    "\n",
    "<img src=images/customer-frequency.png width=400>\n",
    "\n",
    "\n",
    "This histogram is helpful for our store manager. The last six hours of the day are the busiest — from 6 pm until midnight. Does this mean the manager should staff their grocery store with the most employees between 6 pm and midnight?\n",
    "\n",
    "To the manager, this doesn’t make much sense. The manager knows the store is busy when many people get off work, but the rush certainly doesn’t continue later than 9 pm.\n",
    "\n",
    "The issue with this histogram is that we have too few bins. When plotting a histogram, it’s essential to select bins that fully capture the trends in the underlying data. Often, this will require some guessing and checking. There isn’t much of a science to selecting bin size.\n",
    "\n",
    "How many bins do you think makes sense for this example? I would try 24 because there are 24 hours in a day."
   ]
  },
  {
   "cell_type": "code",
   "execution_count": null,
   "metadata": {},
   "outputs": [],
   "source": [
    "\n"
   ]
  },
  {
   "cell_type": "markdown",
   "metadata": {},
   "source": [
    "# Instructions\n",
    "\n",
    "1.\n",
    "Change the number of bins in your code from 4 to 24.\n",
    "\n",
    "What do you notice about the data?\n",
    "\n",
    "Given this new graph, when would you recommend staffing the grocery store?\n",
    "\n",
    "\n",
    "\n",
    "\n",
    "### Hint\n",
    "It looks like the busiest times of day are in the morning, from 5am to 10am, and in the evening from 5pm to 10pm.\n",
    "\n",
    "This histogram has two distinct peaks, neither of which are close to our average of 3pm. As you can see, averages don’t tell the full story. By visualizing the shape of our data, we can make better-informed decisions."
   ]
  },
  {
   "cell_type": "code",
   "execution_count": 16,
   "metadata": {},
   "outputs": [
    {
     "data": {
      "image/png": "[encoded data removed]",
      "text/plain": [
       "<Figure size 432x288 with 1 Axes>"
      ]
     },
     "metadata": {
      "needs_background": "light"
     },
     "output_type": "display_data"
    }
   ],
   "source": [
    "# Import packages\n",
    "\n",
    "import numpy as np\n",
    "import pandas as pd\n",
    "from matplotlib import pyplot as plt\n",
    "\n",
    "# Read in transactions data\n",
    "transactions = pd.read_csv(\"transactions.csv\")\n",
    "\n",
    "# Save transaction times to a separate numpy array\n",
    "times = transactions[\"Transaction Time\"].values\n",
    "\n",
    "# Use plt.hist() below\n",
    "plt.hist(times, range=(0, 24), bins = 24,  edgecolor=\"black\")\n",
    "plt.title(\"Weekday Frequency of Customers\")\n",
    "plt.xlabel(\"Hours (1 hour increments)\")\n",
    "plt.ylabel(\"Count\")\n",
    "\n",
    "plt.show()"
   ]
  },
  {
   "cell_type": "code",
   "execution_count": null,
   "metadata": {},
   "outputs": [],
   "source": []
  },
  {
   "cell_type": "markdown",
   "metadata": {},
   "source": [
    "# Review\n",
    "In this lesson, you learned what a histogram is, how to calculate it using NumPy, and how to plot one with Matplotlib.\n",
    "\n",
    "The example that we used throughout this lesson, finding the busiest times of day at a grocery store, shows how histograms can be used to derive meaning, and inform decisions with our data.\n",
    "\n",
    "Looking at the hourly customer count histogram was more helpful to inform staffing decisions than knowing the average time that a customer arrives at the grocery store.\n",
    "\n",
    "Although average is an important, and quick way to summarize your data, histograms tell you much more of the story."
   ]
  },
  {
   "cell_type": "code",
   "execution_count": null,
   "metadata": {},
   "outputs": [],
   "source": []
  },
  {
   "cell_type": "markdown",
   "metadata": {},
   "source": [
    "# Instructions\n",
    "Now, the store manager wants a histogram of transaction costs. Try plotting a histogram for the cost variable.\n",
    "\n",
    "Some things to think about:\n",
    "\n",
    "- What is a reasonable minimum for transaction data? Maybe 0 dollars.\n",
    "- What is a reasonable maximum for the transaction data? Using np.amax(cost), we get 161.4. So, you could make the maximum 165.\n",
    "- How many bins should you use to adequately represent the data? Do some guess and check work to figure this out."
   ]
  },
  {
   "cell_type": "code",
   "execution_count": 17,
   "metadata": {},
   "outputs": [
    {
     "data": {
      "image/png": "[encoded data removed]",
      "text/plain": [
       "<Figure size 432x288 with 1 Axes>"
      ]
     },
     "metadata": {
      "needs_background": "light"
     },
     "output_type": "display_data"
    }
   ],
   "source": [
    "# Import packages\n",
    "\n",
    "import numpy as np\n",
    "import pandas as pd\n",
    "\n",
    "# Import matplotlib pyplot\n",
    "from matplotlib import pyplot as plt\n",
    "\n",
    "# Read in transactions data\n",
    "transactions = pd.read_csv(\"transactions.csv\")\n",
    "\n",
    "# Save transaction times to a separate numpy array\n",
    "times = transactions[\"Transaction Time\"].values\n",
    "cost = transactions[\"Cost\"].values\n",
    "\n",
    "# Use plt.hist() below\n",
    "\n",
    "plt.hist(cost, range=(0,165), bins=20,edgecolor=\"black\" )\n",
    "plt.show()"
   ]
  }
 ],
 "metadata": {
  "kernelspec": {
   "display_name": "Python 3",
   "language": "python",
   "name": "python3"
  },
  "language_info": {
   "codemirror_mode": {
    "name": "ipython",
    "version": 3
   },
   "file_extension": ".py",
   "mimetype": "text/x-python",
   "name": "python",
   "nbconvert_exporter": "python",
   "pygments_lexer": "ipython3",
   "version": "3.7.3"
  }
 },
 "nbformat": 4,
 "nbformat_minor": 2
}
