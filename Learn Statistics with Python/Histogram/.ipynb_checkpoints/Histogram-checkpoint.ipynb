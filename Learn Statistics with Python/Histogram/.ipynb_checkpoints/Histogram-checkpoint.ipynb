{
 "cells": [
  {
   "cell_type": "markdown",
   "metadata": {},
   "source": [
    "# Introduction\n",
    "\n",
    "Statistics is often pitched as a way to find certainty through data. As you’ll learn in this lesson, the power of statistics is more often used to communicate that certainty doesn’t really exist. Instead, it provides tools to communicate how uncertain we are about a problem.\n",
    "\n",
    "There’s no better tool to visualize the uncertainty and chaos in data than a histogram. A histogram displays the distribution of your underlying data.\n",
    "\n",
    "Histograms reveal, through numbers, interpretable trends in your data. They don’t provide a yes or no answer, but are often used as a starting point for discussion and informing an answer to your data.\n",
    "\n",
    "Whether you’re brand new to statistics or know it well, this lesson will teach you how to use histograms to visualize your data and inform decision-making."
   ]
  },
  {
   "cell_type": "markdown",
   "metadata": {},
   "source": [
    "## Instructions\n",
    "Take a look at the histogram to the right. It shows the distribution of possible calories in a burrito bowl at a fast-casual Mexican restaurant. If you don’t understand the plot, that’s okay. We’ll discuss it throughout this lesson.\n",
    "\n",
    "Below, I’ve listed a few questions that someone may ask after looking over this histogram:\n",
    "\n",
    "How many calories should a restaurant say is in their burrito bowl?\n",
    "What is so different about the burrito bowls with 600 calories, and those with 1000 calories?\n",
    "What can the restaurant change to ensure they are consistently serving burrito bowls with the same number of calories?"
   ]
  },
  {
   "cell_type": "code",
   "execution_count": 2,
   "metadata": {},
   "outputs": [
    {
     "data": {
      "image/png": "[encoded data removed]",
      "text/plain": [
       "<Figure size 432x288 with 1 Axes>"
      ]
     },
     "metadata": {
      "needs_background": "light"
     },
     "output_type": "display_data"
    }
   ],
   "source": [
    "# Import packages\n",
    "\n",
    "import numpy as np\n",
    "import pandas as pd\n",
    "\n",
    "# Import matplotlib pyplot\n",
    "from matplotlib import pyplot as plt\n",
    "\n",
    "# Read in transactions data\n",
    "mu, sigma = 800, 100 # mean and standard deviation\n",
    "burrito_calories = np.random.normal(mu, sigma, 320)\n",
    "\n",
    "# Save transaction times to a separate numpy array\n",
    "plt.hist(burrito_calories, range=(250, 1250), bins=100,  edgecolor='black')\n",
    "plt.title(\"Calories in a Burrito Bowl\", fontsize = 24)\n",
    "plt.xlabel(\"Calories\", fontsize=18)\n",
    "plt.ylabel(\"Count\", fontsize=18)\n",
    "\n",
    "plt.show()"
   ]
  },
  {
   "cell_type": "code",
   "execution_count": null,
   "metadata": {},
   "outputs": [],
   "source": []
  },
  {
   "cell_type": "code",
   "execution_count": null,
   "metadata": {},
   "outputs": [],
   "source": []
  }
 ],
 "metadata": {
  "kernelspec": {
   "display_name": "Python 3",
   "language": "python",
   "name": "python3"
  },
  "language_info": {
   "codemirror_mode": {
    "name": "ipython",
    "version": 3
   },
   "file_extension": ".py",
   "mimetype": "text/x-python",
   "name": "python",
   "nbconvert_exporter": "python",
   "pygments_lexer": "ipython3",
   "version": "3.7.3"
  }
 },
 "nbformat": 4,
 "nbformat_minor": 2
}
