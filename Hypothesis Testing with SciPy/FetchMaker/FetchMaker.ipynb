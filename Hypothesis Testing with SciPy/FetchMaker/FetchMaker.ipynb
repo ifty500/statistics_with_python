{
 "cells": [
  {
   "cell_type": "markdown",
   "metadata": {},
   "source": [
    "# FetchMaker\n",
    "Congratulations! You’ve just started working at the hottest new tech startup, FetchMaker. FetchMaker’s mission is to match up prospective dog owners with their perfect pet. Data on thousands of adoptable dogs are in FetchMaker’s system, and it’s your job to analyze some of that data."
   ]
  },
  {
   "cell_type": "code",
   "execution_count": 4,
   "metadata": {},
   "outputs": [],
   "source": [
    "import pandas as pd\n",
    "import numpy as np\n",
    "\n",
    "dogs = pd.read_csv(\"dog_data.csv\")\n",
    "\n",
    "def get_attribute(breed, attribute):\n",
    "  if breed in dogs.breed.unique():\n",
    "    if attribute in dogs.columns:\n",
    "        return dogs[dogs[\"breed\"] == breed][attribute]\n",
    "    else:\n",
    "        raise NameError('Attribute {} does not exist.'.format(attribute))\n",
    "  else:\n",
    "    raise NameError('Breed {} does not exist.'.format(breed))\n",
    "  \n",
    "\n",
    "def get_weight(breed):\n",
    "    return get_attribute(breed, 'weight')\n",
    "  \n",
    "def get_tail_length(breed):\n",
    "    return get_attribute(breed, 'tail_length')\n",
    "\n",
    "def get_color(breed):\n",
    "    return get_attribute(breed, 'color')\n",
    "\n",
    "def get_age(breed):\n",
    "    return get_attribute(breed, 'age')\n",
    "\n",
    "def get_is_rescue(breed):\n",
    "    return get_attribute(breed, 'is_rescue')\n",
    "\n",
    "def get_likes_children(breed):\n",
    "    return get_attribute(breed, 'likes_children')\n",
    "\n",
    "def get_is_hypoallergenic(breed):\n",
    "    return get_attribute(breed, \"is_hypoallergenic\")\n",
    "\n",
    "def get_name(breed):\n",
    "    return get_attribute(breed, \"name\")"
   ]
  },
  {
   "cell_type": "code",
   "execution_count": null,
   "metadata": {},
   "outputs": [],
   "source": []
  }
 ],
 "metadata": {
  "kernelspec": {
   "display_name": "Python 3",
   "language": "python",
   "name": "python3"
  },
  "language_info": {
   "codemirror_mode": {
    "name": "ipython",
    "version": 3
   },
   "file_extension": ".py",
   "mimetype": "text/x-python",
   "name": "python",
   "nbconvert_exporter": "python",
   "pygments_lexer": "ipython3",
   "version": "3.7.3"
  }
 },
 "nbformat": 4,
 "nbformat_minor": 2
}
