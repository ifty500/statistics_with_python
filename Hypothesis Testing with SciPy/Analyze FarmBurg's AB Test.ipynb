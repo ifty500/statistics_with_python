{
 "cells": [
  {
   "cell_type": "markdown",
   "metadata": {},
   "source": [
    "# Getting Familiar with FarmBurg\n",
    "Brian is a Product Manager at FarmBurg, a company that makes a farming simulation social network game. In the FarmBurg game, you can plow, plant, and harvest different crops.\n",
    "\n",
    "Today, you will be acting as Brian’s data analyst for an A/B Test that he has been conducting.\n",
    "\n",
    "Brian tells you that he ran an A/B test with three different groups: A, B, and C. You’re kind of busy today, so you don’t ask too many questions about the differences between A, B, and C. Maybe they were shown three different versions of an ad. Who cares?\n",
    "\n",
    "\n",
    "\n",
    "Brian gives you a CSV of results called clicks.csv. It has the following columns:\n",
    "\n",
    "* user_id: a unique id for each visitor to the FarmBurg site\n",
    "* ab_test_group: either A, B, or C depending on which group the visitor was assigned to\n",
    "* click_day: only filled in if the user clicked on a link to purchase"
   ]
  },
  {
   "cell_type": "code",
   "execution_count": 1,
   "metadata": {},
   "outputs": [
    {
     "name": "stdout",
     "output_type": "stream",
     "text": [
      "                                user_id group click_day\n",
      "0  8e27bf9a-5b6e-41ed-801a-a59979c0ca98     A       NaN\n",
      "1  eb89e6f0-e682-4f79-99b1-161cc1c096f1     A       NaN\n",
      "2  7119106a-7a95-417b-8c4c-092c12ee5ef7     A       NaN\n",
      "3  e53781ff-ff7a-4fcd-af1a-adba02b2b954     A       NaN\n",
      "4  02d48cf1-1ae6-40b3-9d8b-8208884a0904     A  Saturday\n"
     ]
    }
   ],
   "source": [
    "\n",
    "import pandas as pd\n",
    "\n",
    "df = pd.read_csv('data/clicks.csv')\n",
    "\n",
    "print(df.head())"
   ]
  },
  {
   "cell_type": "code",
   "execution_count": null,
   "metadata": {},
   "outputs": [],
   "source": []
  },
  {
   "cell_type": "markdown",
   "metadata": {},
   "source": [
    "# Calculating Purchase Rates\n",
    "We need to help Brian determine whether or not there is a significant difference in the percent of users who purchased the upgrade package among groups A, B, and C."
   ]
  },
  {
   "cell_type": "markdown",
   "metadata": {},
   "source": [
    "# Instructions\n",
    "1.\n",
    "Define a new column called is_purchase which is \"Purchase\" if click_day is not None and \"No Purchase\" if click_day is None. This will tell us if each visitor clicked on the Purchase link.\n",
    "\n",
    "\n",
    "2.\n",
    "We want to count the number of users who made a purchase from each group. Use groupby to count the number of \"Purchase\" and \"No Purchase\" from each group. Save your answer to the variable purchase_counts.\n",
    "\n",
    "\n",
    "3.\n",
    "Examine purchase_counts using print."
   ]
  },
  {
   "cell_type": "code",
   "execution_count": 3,
   "metadata": {},
   "outputs": [],
   "source": [
    "\n",
    "import pandas as pd\n",
    "\n",
    "df = pd.read_csv('data/clicks.csv')\n",
    "\n",
    "df['is_purchase'] = df.click_day.apply(\n",
    "  lambda x: 'Purchase' if pd.notnull(x) else 'No Purchase'\n",
    ")\n"
   ]
  },
  {
   "cell_type": "code",
   "execution_count": 5,
   "metadata": {},
   "outputs": [
    {
     "data": {
      "text/html": [
       "<div>\n",
       "<style scoped>\n",
       "    .dataframe tbody tr th:only-of-type {\n",
       "        vertical-align: middle;\n",
       "    }\n",
       "\n",
       "    .dataframe tbody tr th {\n",
       "        vertical-align: top;\n",
       "    }\n",
       "\n",
       "    .dataframe thead th {\n",
       "        text-align: right;\n",
       "    }\n",
       "</style>\n",
       "<table border=\"1\" class=\"dataframe\">\n",
       "  <thead>\n",
       "    <tr style=\"text-align: right;\">\n",
       "      <th></th>\n",
       "      <th>user_id</th>\n",
       "      <th>group</th>\n",
       "      <th>click_day</th>\n",
       "      <th>is_purchase</th>\n",
       "    </tr>\n",
       "  </thead>\n",
       "  <tbody>\n",
       "    <tr>\n",
       "      <th>0</th>\n",
       "      <td>8e27bf9a-5b6e-41ed-801a-a59979c0ca98</td>\n",
       "      <td>A</td>\n",
       "      <td>NaN</td>\n",
       "      <td>No Purchase</td>\n",
       "    </tr>\n",
       "    <tr>\n",
       "      <th>1</th>\n",
       "      <td>eb89e6f0-e682-4f79-99b1-161cc1c096f1</td>\n",
       "      <td>A</td>\n",
       "      <td>NaN</td>\n",
       "      <td>No Purchase</td>\n",
       "    </tr>\n",
       "    <tr>\n",
       "      <th>2</th>\n",
       "      <td>7119106a-7a95-417b-8c4c-092c12ee5ef7</td>\n",
       "      <td>A</td>\n",
       "      <td>NaN</td>\n",
       "      <td>No Purchase</td>\n",
       "    </tr>\n",
       "    <tr>\n",
       "      <th>3</th>\n",
       "      <td>e53781ff-ff7a-4fcd-af1a-adba02b2b954</td>\n",
       "      <td>A</td>\n",
       "      <td>NaN</td>\n",
       "      <td>No Purchase</td>\n",
       "    </tr>\n",
       "    <tr>\n",
       "      <th>4</th>\n",
       "      <td>02d48cf1-1ae6-40b3-9d8b-8208884a0904</td>\n",
       "      <td>A</td>\n",
       "      <td>Saturday</td>\n",
       "      <td>Purchase</td>\n",
       "    </tr>\n",
       "  </tbody>\n",
       "</table>\n",
       "</div>"
      ],
      "text/plain": [
       "                                user_id group click_day  is_purchase\n",
       "0  8e27bf9a-5b6e-41ed-801a-a59979c0ca98     A       NaN  No Purchase\n",
       "1  eb89e6f0-e682-4f79-99b1-161cc1c096f1     A       NaN  No Purchase\n",
       "2  7119106a-7a95-417b-8c4c-092c12ee5ef7     A       NaN  No Purchase\n",
       "3  e53781ff-ff7a-4fcd-af1a-adba02b2b954     A       NaN  No Purchase\n",
       "4  02d48cf1-1ae6-40b3-9d8b-8208884a0904     A  Saturday     Purchase"
      ]
     },
     "execution_count": 5,
     "metadata": {},
     "output_type": "execute_result"
    }
   ],
   "source": [
    "df.head()"
   ]
  },
  {
   "cell_type": "code",
   "execution_count": 6,
   "metadata": {},
   "outputs": [
    {
     "data": {
      "text/html": [
       "<div>\n",
       "<style scoped>\n",
       "    .dataframe tbody tr th:only-of-type {\n",
       "        vertical-align: middle;\n",
       "    }\n",
       "\n",
       "    .dataframe tbody tr th {\n",
       "        vertical-align: top;\n",
       "    }\n",
       "\n",
       "    .dataframe thead th {\n",
       "        text-align: right;\n",
       "    }\n",
       "</style>\n",
       "<table border=\"1\" class=\"dataframe\">\n",
       "  <thead>\n",
       "    <tr style=\"text-align: right;\">\n",
       "      <th></th>\n",
       "      <th>group</th>\n",
       "      <th>is_purchase</th>\n",
       "      <th>user_id</th>\n",
       "    </tr>\n",
       "  </thead>\n",
       "  <tbody>\n",
       "    <tr>\n",
       "      <th>0</th>\n",
       "      <td>A</td>\n",
       "      <td>No Purchase</td>\n",
       "      <td>1350</td>\n",
       "    </tr>\n",
       "    <tr>\n",
       "      <th>1</th>\n",
       "      <td>A</td>\n",
       "      <td>Purchase</td>\n",
       "      <td>316</td>\n",
       "    </tr>\n",
       "    <tr>\n",
       "      <th>2</th>\n",
       "      <td>B</td>\n",
       "      <td>No Purchase</td>\n",
       "      <td>1483</td>\n",
       "    </tr>\n",
       "    <tr>\n",
       "      <th>3</th>\n",
       "      <td>B</td>\n",
       "      <td>Purchase</td>\n",
       "      <td>183</td>\n",
       "    </tr>\n",
       "    <tr>\n",
       "      <th>4</th>\n",
       "      <td>C</td>\n",
       "      <td>No Purchase</td>\n",
       "      <td>1583</td>\n",
       "    </tr>\n",
       "    <tr>\n",
       "      <th>5</th>\n",
       "      <td>C</td>\n",
       "      <td>Purchase</td>\n",
       "      <td>83</td>\n",
       "    </tr>\n",
       "  </tbody>\n",
       "</table>\n",
       "</div>"
      ],
      "text/plain": [
       "  group  is_purchase  user_id\n",
       "0     A  No Purchase     1350\n",
       "1     A     Purchase      316\n",
       "2     B  No Purchase     1483\n",
       "3     B     Purchase      183\n",
       "4     C  No Purchase     1583\n",
       "5     C     Purchase       83"
      ]
     },
     "execution_count": 6,
     "metadata": {},
     "output_type": "execute_result"
    }
   ],
   "source": [
    "purchase_counts = df.groupby(['group', 'is_purchase']).user_id.count().reset_index()\n",
    "\n",
    "purchase_counts"
   ]
  },
  {
   "cell_type": "code",
   "execution_count": null,
   "metadata": {},
   "outputs": [],
   "source": [
    "\n"
   ]
  },
  {
   "cell_type": "markdown",
   "metadata": {},
   "source": [
    "Performing a Significance Test\n",
    "Here is our table of purchases from the previous exercise:\n",
    "\n",
    "|group|\tis_purchase|\tuser_id|\n",
    "|---|---|---|\n",
    "|A\t|No Purchase|\t1350|\n",
    "|A\t|Purchase\t|316|\n",
    "|B\t|No Purchase|\t1483|\n",
    "|B\t|Purchase\t|183|\n",
    "|C\t|No Purchase|\t1583|\n",
    "|C\t|Purchase\t|83|\n",
    "\n",
    "The data from this A/B test is categorical data.\n",
    "\n",
    "Why?\n",
    "\n",
    "Because a user’s response can be either \"Purchase\" or \"No Purchase\".\n",
    "\n",
    "There are more than 2 conditions: users could be in either Group A, Group B, or Group C.\n",
    "\n",
    "Recall our table for determining which significance test to use:\n",
    "\n",
    "| |Numerical|\tCategorical|\n",
    "|---|---|---|\n",
    "|Sample vs. Known Quantity|\t1 Sample T-Test|\tBinomial Test|\n",
    "|2 Samples|\t2 Sample T-Test|\tChi Square|\n",
    "|More Than 2 Samples|\tANOVA and/orTukey|\tChi Square|\n",
    "\n",
    "Which type of test should we use?"
   ]
  },
  {
   "cell_type": "markdown",
   "metadata": {},
   "source": [
    "# Instructions\n",
    "1.\n",
    "You should perform a chi-squared test to determine if the differences between Groups A, B, and C are significant.\n",
    "\n",
    "Import chi2_contingency from scipy.stats so that you can perform the chi-squared test.\n",
    "\n",
    "\n",
    "2.\n",
    "The function chi2_contingency accepts one argument: a contingency table.\n",
    "\n",
    "Start by filling in the contingency table below with the correct values:\n",
    "\n",
    "contingency = [[A_purchases, A_not_purchases],\n",
    "               [B_purchases, B_not_purchases],\n",
    "               [C_purchases, C_not_purchases]]\n",
    "\n",
    "3.\n",
    "Use the function chi2_contingency with the data in contingency to calculate the p-value.\n",
    "\n",
    "Save only the p-value to the variable pvalue.\n",
    "\n",
    "\n",
    "\n",
    "\n",
    "4.\n",
    "Is pvalue less than 0.05? If so, there is a significant difference between the three groups.\n",
    "\n",
    "Create a variable called is_significant and make it:\n",
    "\n",
    "True if pvalue is less than 0.05\n",
    "False if pvalue is greater than 0.05"
   ]
  },
  {
   "cell_type": "code",
   "execution_count": 7,
   "metadata": {},
   "outputs": [
    {
     "name": "stdout",
     "output_type": "stream",
     "text": [
      "2.4126213546684264e-35\n"
     ]
    }
   ],
   "source": [
    "from scipy.stats import chi2_contingency\n",
    "\n",
    "contingency = [[316, 1350],\n",
    "           [183, 1483],\n",
    "           [83, 1583]]\n",
    "\n",
    "chi2_stat, pvalue, dof, t = chi2_contingency(contingency)\n",
    "\n",
    "print(pvalue)\n",
    "\n",
    "is_significant = True"
   ]
  },
  {
   "cell_type": "code",
   "execution_count": null,
   "metadata": {},
   "outputs": [],
   "source": []
  },
  {
   "cell_type": "markdown",
   "metadata": {},
   "source": [
    "# Calculating Necessary Purchase Rates\n",
    "Your day is a little less busy than you expected, so you decide to ask Brian about his test.\n",
    "\n",
    "You: Hey Brian! What was that test you were running anyway?\n",
    "\n",
    "Brian: It was awesome! We are trying to get users to purchase a small FarmBurg upgrade package. It’s called a microtransaction. We’re not sure how much to charge for it, so we tested three different price points: $0.99, $1.99, and $4.99. It looks like significantly more people bought the upgrade package for $0.99, so I guess that’s what we’ll charge.\n",
    "\n",
    "You: Oh no! I should have asked you this before we did that chi-squared test. I don’t think that this was the right test at all. It’s true that more people wanted to purchase the upgrade at $0.99; you probably expected that. What we really want to know is if each price point allows us to make enough money that we can exceed some target goal. Brian, how much do you think it cost to build this feature?\n",
    "\n",
    "Brian: Hmm. I guess that we need to generate a minimum of $1000 per week in order to justify this project."
   ]
  },
  {
   "cell_type": "markdown",
   "metadata": {},
   "source": [
    "# Instructions\n",
    "1.\n",
    "How many visitors came to the site this week? Save your answer to num_visits.\n",
    "\n",
    "\n",
    "\n",
    "\n",
    "2.\n",
    "Let’s assume that num_visits is how many visitors we generally get each week. Given that, calculate the percent of visitors who would need to purchase the upgrade package at each price point ($0.99, $1.99, $4.99) in order to generate Brian’s target of $1,000 per week.\n",
    "\n",
    "Save the results to:\n",
    "\n",
    "p_clicks_099\n",
    "p_clicks_199\n",
    "p_clicks_499\n",
    "\n",
    "Note that for higher price points, you’ll need to sell fewer upgrade packages in order to meet your target.\n",
    "\n",
    "\n",
    "\n",
    "Hint\n",
    "For a $0.99 price point, we would need to sell\n",
    "\n",
    "num_sales = 1000 / 0.99\n",
    "That means that the percent of visitors buying our upgrade package would need to be:\n",
    "\n",
    "p_clicks_099 = num_sales / num_visits"
   ]
  },
  {
   "cell_type": "code",
   "execution_count": 10,
   "metadata": {},
   "outputs": [
    {
     "name": "stdout",
     "output_type": "stream",
     "text": [
      "0.20210104243717691\n",
      "0.10054272965467594\n",
      "0.040096198800161346\n"
     ]
    }
   ],
   "source": [
    "\n",
    "import pandas as pd\n",
    "\n",
    "df = pd.read_csv('data/clicks.csv')\n",
    "\n",
    "num_visits = len(df)\n",
    "\n",
    "p_clicks_099 = (1000 / 0.99) / num_visits\n",
    "p_clicks_199 = (1000 / 1.99) / num_visits\n",
    "p_clicks_499 = (1000 / 4.99) / num_visits\n",
    "\n",
    "print(p_clicks_099)\n",
    "print(p_clicks_199)\n",
    "print(p_clicks_499)"
   ]
  },
  {
   "cell_type": "code",
   "execution_count": null,
   "metadata": {},
   "outputs": [],
   "source": []
  },
  {
   "cell_type": "markdown",
   "metadata": {},
   "source": [
    "# Performing a Significance Test II\n",
    "Here is our table of purchases again:\n",
    "\n",
    "|group|\tis_purchase|\tuser_id|\n",
    "|---|---|---|\n",
    "|A\t|No Purchase|\t1350|\n",
    "|A\t|Purchase\t|316|\n",
    "|B\t|No Purchase|\t1483|\n",
    "|B\t|Purchase\t|183|\n",
    "|C\t|No Purchase|\t1583|\n",
    "|C\t|Purchase\t|83|\n",
    "We want to see if the percent of Group A that purchased an upgrade package is significantly greater than p_clicks_099 (the percent of visitors who need to buy an upgrade package at $0.99 in order to make our target of $1,000).\n",
    "\n",
    "We are comparing a single set of samples to a target. Our data is still categorical.\n",
    "\n",
    "Recall our table for determining which significance test to use:\n",
    "\n",
    "| |Numerical|\tCategorical|\n",
    "|---|---|---|\n",
    "|Sample vs. Known Quantity|\t1 Sample T-Test|\tBinomial Test|\n",
    "|2 Samples|\t2 Sample T-Test|\tChi Square|\n",
    "|More Than 2 Samples|\tANOVA and/orTukey|\tChi Square|\n",
    "\n",
    "Which type of test should we use?"
   ]
  },
  {
   "cell_type": "markdown",
   "metadata": {},
   "source": [
    "# Instructions\n",
    "1.\n",
    "We should use a binomial test on each group to see if the observed purchase rate is significantly greater than what we need in order to generate at least $1,000 per week.\n",
    "\n",
    "    Import binom_test from scipy.stats\n",
    "\n",
    "\n",
    "2.\n",
    "For Group A ($0.99 price point), perform a binom_test to see if the observed purchase rate is significantly greater than p_clicks_099.\n",
    "\n",
    "* will be the number of purchases for Group A\n",
    "* n will be the total number of visitors assigned Group A\n",
    "* p will be the target percent of purchases for that price point (calculated above as p_clicks_099)\n",
    "\n",
    "Save the results to pvalueA.\n",
    "\n",
    "\n",
    "3.\n",
    "For Group B ($1.99 price point), perform a binom_test to see if the observed purchase rate is significantly greater than p_clicks_199.\n",
    "\n",
    "Save the results to pvalueB.\n",
    "\n",
    "\n",
    "4.\n",
    "For Group C ($4.99 price point), perform a binom_test to see if the observed purchase rate is significantly greater than p_clicks_499.\n",
    "\n",
    "Save the results to pvalueC.\n",
    "\n",
    "\n",
    "5.\n",
    "What price should Brian charge for the upgrade package? Save your answer to the variable final_answer."
   ]
  },
  {
   "cell_type": "code",
   "execution_count": 16,
   "metadata": {},
   "outputs": [
    {
     "name": "stdout",
     "output_type": "stream",
     "text": [
      "  group  is_purchase  user_id\n",
      "0     A  No Purchase     1350\n",
      "1     A     Purchase      316\n",
      "2     B  No Purchase     1483\n",
      "3     B     Purchase      183\n",
      "4     C  No Purchase     1583\n",
      "5     C     Purchase       83\n",
      "0.2111287299402726\n",
      "\n",
      "0.20660209246555486\n",
      "\n",
      "0.045623672477172125\n"
     ]
    }
   ],
   "source": [
    "\n",
    "import pandas as pd\n",
    "\n",
    "df = pd.read_csv('data/clicks.csv')\n",
    "\n",
    "df['is_purchase'] = df.click_day.apply(\n",
    "  lambda x: 'Purchase' if pd.notnull(x) else 'No Purchase'\n",
    ")\n",
    "\n",
    "purchase_counts = df.groupby(['group', 'is_purchase']).user_id.count().reset_index()\n",
    "\n",
    "print(purchase_counts)\n",
    "\n",
    "num_visits = len(df)\n",
    "\n",
    "p_clicks_099 = (1000 / 0.99) / num_visits\n",
    "p_clicks_199 = (1000 / 1.99) / num_visits\n",
    "p_clicks_499 = (1000 / 4.99) / num_visits\n",
    "\n",
    "from scipy.stats import binom_test\n",
    "\n",
    "pvalueA = binom_test(316, 1666, p_clicks_099)\n",
    "pvalueB = binom_test(183, 1666, p_clicks_199)\n",
    "pvalueC = binom_test(83, 1666, p_clicks_499)\n",
    "\n",
    "print(pvalueA)\n",
    "print('')\n",
    "print(pvalueB)\n",
    "print('')\n",
    "print(pvalueC)\n",
    "\n"
   ]
  },
  {
   "cell_type": "code",
   "execution_count": 17,
   "metadata": {},
   "outputs": [],
   "source": [
    "final_answer = 4.99"
   ]
  },
  {
   "cell_type": "code",
   "execution_count": null,
   "metadata": {},
   "outputs": [],
   "source": []
  }
 ],
 "metadata": {
  "kernelspec": {
   "display_name": "Python 3",
   "language": "python",
   "name": "python3"
  },
  "language_info": {
   "codemirror_mode": {
    "name": "ipython",
    "version": 3
   },
   "file_extension": ".py",
   "mimetype": "text/x-python",
   "name": "python",
   "nbconvert_exporter": "python",
   "pygments_lexer": "ipython3",
   "version": "3.7.3"
  }
 },
 "nbformat": 4,
 "nbformat_minor": 2
}
