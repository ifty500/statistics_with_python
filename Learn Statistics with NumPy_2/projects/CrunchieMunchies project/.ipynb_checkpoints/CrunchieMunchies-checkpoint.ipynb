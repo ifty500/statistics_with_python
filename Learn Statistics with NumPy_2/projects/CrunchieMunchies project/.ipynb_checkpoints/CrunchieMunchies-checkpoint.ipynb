{
 "cells": [
  {
   "cell_type": "markdown",
   "metadata": {},
   "source": [
    "# CrunchieMunchies\n",
    "You work in marketing for a food company YummyCorps, which is developing a new kind of tasty, wholesome cereal called CrunchieMunchies. You want to demonstrate to consumers how healthy your cereal is in comparison to other leading brands, so you’ve dug up nutritional data on several different competitors.\n",
    "\n",
    "Your task is to use NumPy statistical calculations to analyze this data and prove that your CrunchieMunchies cereal is the healthiest choice for consumers."
   ]
  },
  {
   "cell_type": "code",
   "execution_count": null,
   "metadata": {},
   "outputs": [],
   "source": []
  },
  {
   "cell_type": "code",
   "execution_count": 1,
   "metadata": {},
   "outputs": [
    {
     "name": "stdout",
     "output_type": "stream",
     "text": [
      "100.0\n",
      "90.0\n",
      "70.0\n",
      "70.0\n",
      "55.599999999999994\n",
      "19.35718533390827\n"
     ]
    }
   ],
   "source": [
    "\n",
    "\n",
    "import numpy as np\n",
    "\n",
    "data = np.genfromtxt('cereal.csv', delimiter=\",\")\n",
    "\n",
    "average_calories = np.mean(data)\n",
    "# print(average_calories)\n",
    "calorie_stats_sorted = np.sort(data)\n",
    "\n",
    "# print(calorie_stats_sorted)\n",
    "\n",
    "median_calories =np.median(data)\n",
    "\n",
    "# \n",
    "# print(median_calories)\n",
    "print(np.percentile(data, 25))\n",
    "print(np.percentile(data, 15))\n",
    "print(np.percentile(data, 5))\n",
    "print(np.percentile(data, 4))\n",
    "print(np.percentile(data, 3))\n",
    "\n",
    "nth_percentile = 4\n",
    "\n",
    "more_calories = 100 - nth_percentile\n",
    "\n",
    "calorie_std = np.std(data)\n",
    "\n",
    "print(calorie_std)"
   ]
  },
  {
   "cell_type": "code",
   "execution_count": null,
   "metadata": {},
   "outputs": [],
   "source": []
  }
 ],
 "metadata": {
  "kernelspec": {
   "display_name": "Python 3",
   "language": "python",
   "name": "python3"
  },
  "language_info": {
   "codemirror_mode": {
    "name": "ipython",
    "version": 3
   },
   "file_extension": ".py",
   "mimetype": "text/x-python",
   "name": "python",
   "nbconvert_exporter": "python",
   "pygments_lexer": "ipython3",
   "version": "3.7.3"
  }
 },
 "nbformat": 4,
 "nbformat_minor": 2
}
