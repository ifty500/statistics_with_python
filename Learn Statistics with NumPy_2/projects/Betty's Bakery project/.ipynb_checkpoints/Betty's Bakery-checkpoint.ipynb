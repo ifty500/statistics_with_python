{
 "cells": [
  {
   "cell_type": "markdown",
   "metadata": {},
   "source": [
    "# Betty's Bakery\n",
    "\n",
    "Betty has always used her grandmother’s recipe book to make cookies, cakes, pancakes, and bread for her friends and family. She’s getting ready to open a business and will need to start buying all of her milk, eggs, sugar, flour, and butter in bulk.\n",
    "\n",
    "Help Betty figure out how much she needs to buy using NumPy arrays describing her recipes."
   ]
  },
  {
   "cell_type": "code",
   "execution_count": 2,
   "metadata": {},
   "outputs": [
    {
     "name": "stdout",
     "output_type": "stream",
     "text": [
      "[[2.    0.75  2.    1.    0.5  ]\n",
      " [1.    0.125 1.    1.    0.125]\n",
      " [2.75  1.5   1.    0.    1.   ]\n",
      " [4.    0.5   2.    2.    0.5  ]]\n"
     ]
    }
   ],
   "source": [
    "import numpy as np\n",
    "\n",
    "\n",
    "cupcakes = np.array([2, 0.75, 2, 1, 0.5])\n",
    "\n",
    "recipes = np.genfromtxt('recipes.csv', delimiter=',')\n",
    "\n",
    "\n",
    "print(recipes)\n",
    "\n",
    "\n"
   ]
  },
  {
   "cell_type": "code",
   "execution_count": 3,
   "metadata": {},
   "outputs": [
    {
     "name": "stdout",
     "output_type": "stream",
     "text": [
      "[[1.    0.125 1.    1.    0.125]\n",
      " [2.75  1.5   1.    0.    1.   ]]\n"
     ]
    }
   ],
   "source": [
    "eggs = recipes[:,2]\n",
    "\n",
    "one_egg= recipes[eggs==1]\n",
    "\n",
    "print(one_egg)\n",
    "\n"
   ]
  },
  {
   "cell_type": "code",
   "execution_count": 4,
   "metadata": {},
   "outputs": [
    {
     "name": "stdout",
     "output_type": "stream",
     "text": [
      "[6.75 3.   5.   2.   2.  ]\n"
     ]
    }
   ],
   "source": [
    "cookies = recipes[2,:]\n",
    "\n",
    "double_batch = cupcakes * 2\n",
    "grocery_list  = double_batch + cookies\n",
    "\n",
    "print(grocery_list )"
   ]
  },
  {
   "cell_type": "code",
   "execution_count": null,
   "metadata": {},
   "outputs": [],
   "source": []
  }
 ],
 "metadata": {
  "kernelspec": {
   "display_name": "Python 3",
   "language": "python",
   "name": "python3"
  },
  "language_info": {
   "codemirror_mode": {
    "name": "ipython",
    "version": 3
   },
   "file_extension": ".py",
   "mimetype": "text/x-python",
   "name": "python",
   "nbconvert_exporter": "python",
   "pygments_lexer": "ipython3",
   "version": "3.7.3"
  }
 },
 "nbformat": 4,
 "nbformat_minor": 2
}
