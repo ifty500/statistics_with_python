{
 "cells": [
  {
   "cell_type": "markdown",
   "metadata": {},
   "source": [
    "# Life Expectancy By Country\n",
    "Over the course of the past few centuries, technological and medical advancements have helped increase the life expectancy of humans. However, as of now, the average life expectancy of humans varies depending on what country you live in.\n",
    "\n",
    "In this project, we will investigate a dataset containing information about the average life expectancy in 158 different countries. We will specifically look at how a country’s economic success might impact the life expectancy in that area."
   ]
  },
  {
   "cell_type": "markdown",
   "metadata": {},
   "source": [
    "# Access the Data\n",
    "1.\n",
    "We’ve imported a dataset containing the life expectancy in different countries. The data can be found in the variable named data.\n",
    "\n",
    "To begin, let’s get a sense of what this data looks like. Print data.head() to see the first 5 rows of the dataset.\n",
    "\n",
    "Look at the names of the columns. What other pieces of information does this dataset contain?\n",
    "\n",
    "\n",
    "2.\n",
    "Let’s isolate the column that contains the life expectancy and store it in a variable named life_expectancy. To get a single column from a Panda DataFrame, use this syntax:\n",
    "\n",
    "single_column = dataFrameName[\"columnName\"]\n",
    "Make sure to pay attention to capitalization and spaces when using the column name!\n",
    "\n",
    "\n",
    "\n",
    "3.\n",
    "We can now use NumPy functions on that column! Let’s use the np.quantile() function to find the quartiles of life_expectancy. Store the result in a variable named life_expectancy_quartiles and print the results.\n",
    "\n",
    "\n",
    "\n",
    "4.\n",
    "Nice work! By looking at those three values you can get a sense of the spread of the data. For example, it seems like some of the data is fairly close together — a quarter of the data is between 72.5 years and 75.4 years.\n",
    "\n",
    "Could you predict what the histogram might look like from those three number? Plot the histogram by using the following two lines of code. Does it look how you expected?\n",
    "\n",
    "    plt.hist(life_expectancy)\n",
    "    plt.show()\n",
    "\n",
    "\n",
    "5.\n",
    "Let’s take a moment to think about the meaning of these quartiles. If your country has a life expectancy of 70 years, does that fall in the first, second, third, or final quarter of the data?\n",
    "\n",
    "\n",
    "\n",
    "\n",
    "\n",
    "## Splitting the Data by GDP\n",
    "6.\n",
    "GDP is a mesaure of a country’s wealth. Let’s now use the GDP data to see if life expectancy is affected by this value.\n",
    "\n",
    "Let’s split the data into two groups based on GDP. If we find the median GDP, we can create two datasets for “low GDP countries” and “high GDP countries.\n",
    "\n",
    "To start, let’s isolate the GDP column and store it in a variable named gdp. This should be similar to how you isolated the life expectancy column.\n",
    "\n",
    "\n",
    "\n",
    "7.\n",
    "We now want to find the median GDP. You can use NumPy’s np.median() function, but since the median is also a quantile, we can call np.quanitle() using 0.5 as the second parameter.\n",
    "\n",
    "Store the median in a variable named median_gdp. Print that variable to see the median.\n",
    "\n",
    "\n",
    "\n",
    "8.\n",
    "Let’s now grab all of the rows from our original dataset that have a GDP less than or equal to the median. The following code will do that for you\n",
    "\n",
    "    low_gdp = data[data['GDP'] <= median_gdp]\n",
    "    \n",
    "Do the same for all of the rows that have a GDP higher than the median. Store those rows in a variable named high_gdp.\n",
    "\n",
    "The line of code should look almost identical to the one above, but you should change the <= to >.\n",
    "\n",
    "Remember to change the name of the variable!\n",
    "\n",
    "9.\n",
    "Now that we’ve split the data based on the GDP, let’s see how the life expectancy of each group compares to each other.\n",
    "\n",
    "Find the quartiles of the \"Life Expectancy\" column of low_gdp. Store the quartiles in a variable named low_gdp_quartiles. Print the results.\n",
    "\n",
    "\n",
    "\n",
    "10.\n",
    "Find the quartiles of the high GDP countries and store them in a variable named high_gdp_quartiles. This should look very similar to the last line of code you wrote. Print the results.\n",
    "\n",
    "\n",
    "\n",
    "## Histogram and Conclusions\n",
    "11.\n",
    "By looking at the quantiles, you should get a sense of the spread and central tendency of these two datasets. But let’s plot a histogram of each dataset to really compare them.\n",
    "\n",
    "Remove the two lines of code that are currently plotting the histogram of the original dataset. At the bottom of your code, add these four lines:\n",
    "\n",
    "    plt.hist(high_gdp[\"Life Expectancy\"], alpha = 0.5, label = \"High GDP\")\n",
    "    plt.hist(low_gdp[\"Life Expectancy\"], alpha = 0.5, label = \"Low GDP\")\n",
    "    plt.legend()\n",
    "    plt.show()\n",
    "    \n",
    "12.\n",
    "We can now truly see the impact GDP has on life expectancy.\n",
    "\n",
    "Once again, consider a country that has a life expectancy of 70 years. If that country is in the top half of GDP countries, is it in the first, second, third, or fourth quarter of the data with respect to life expectancy? What if the country is in the bottom half of GDP countries? Check the hint to see our thoughts.\n",
    "\n",
    "\n",
    "### Hint\n",
    "70 is below the first quartile of the high GDP dataset, so it falls in the first quarter of that dataset. 70 is between the second and third quartile of the low GDP dataset, so it falls in the third quarter."
   ]
  },
  {
   "cell_type": "code",
   "execution_count": 3,
   "metadata": {},
   "outputs": [
    {
     "name": "stdout",
     "output_type": "stream",
     "text": [
      "               Country  Life Expectancy          GDP\n",
      "0          Afghanistan         58.19375   340.015425\n",
      "1              Albania         75.15625  2119.726679\n",
      "2              Algeria         73.61875  2847.853392\n",
      "3               Angola         49.01875  1975.143045\n",
      "4  Antigua and Barbuda         75.05625  9759.305728\n"
     ]
    }
   ],
   "source": [
    "\n",
    "import numpy as np\n",
    "import pandas as pd\n",
    "import matplotlib.pyplot as plt\n",
    "\n",
    "data = pd.read_csv(\"country_data.csv\")\n",
    "\n",
    "print(data.head())\n"
   ]
  },
  {
   "cell_type": "code",
   "execution_count": 4,
   "metadata": {},
   "outputs": [
    {
     "name": "stdout",
     "output_type": "stream",
     "text": [
      "[62.325     72.525     75.4421875]\n",
      "2938.0781152500003\n",
      "[56.3375  64.34375 71.7375 ]\n",
      "[72.965625 75.15625  80.521875]\n"
     ]
    },
    {
     "data": {
      "image/png": "[encoded data removed]",
      "text/plain": [
       "<Figure size 432x288 with 1 Axes>"
      ]
     },
     "metadata": {
      "needs_background": "light"
     },
     "output_type": "display_data"
    }
   ],
   "source": [
    "life_expectancy = data['Life Expectancy']\n",
    "\n",
    "life_expectancy_quartiles = np.quantile(life_expectancy,[.25,.50,.75])\n",
    "\n",
    "print(life_expectancy_quartiles)\n",
    "\n",
    "plt.hist(life_expectancy)\n",
    "\n",
    "gdp = data['GDP']\n",
    "\n",
    "median_gdp = np.quantile(gdp, .5)\n",
    "\n",
    "print(median_gdp)\n",
    "\n",
    "low_gdp = data[data['GDP'] <= median_gdp]\n",
    "\n",
    "high_gdp = data[data['GDP'] > median_gdp]\n",
    "\n",
    "low_gdp_quartiles = np.quantile(low_gdp[\"Life Expectancy\"], [.25, .5, .75])\n",
    "print(low_gdp_quartiles)\n",
    "high_gdp_quartiles = np.quantile(high_gdp[\"Life Expectancy\"], [.25, .5, .75])\n",
    "print(high_gdp_quartiles)\n",
    "\n",
    "plt.hist(high_gdp[\"Life Expectancy\"], alpha = 0.5, label = \"High GDP\")\n",
    "plt.hist(low_gdp[\"Life Expectancy\"], alpha = 0.5, label = \"Low GDP\")\n",
    "plt.legend()\n",
    "\n",
    "\n",
    "plt.show()\n"
   ]
  },
  {
   "cell_type": "code",
   "execution_count": null,
   "metadata": {},
   "outputs": [],
   "source": []
  }
 ],
 "metadata": {
  "kernelspec": {
   "display_name": "Python 3",
   "language": "python",
   "name": "python3"
  },
  "language_info": {
   "codemirror_mode": {
    "name": "ipython",
    "version": 3
   },
   "file_extension": ".py",
   "mimetype": "text/x-python",
   "name": "python",
   "nbconvert_exporter": "python",
   "pygments_lexer": "ipython3",
   "version": "3.7.3"
  }
 },
 "nbformat": 4,
 "nbformat_minor": 2
}
