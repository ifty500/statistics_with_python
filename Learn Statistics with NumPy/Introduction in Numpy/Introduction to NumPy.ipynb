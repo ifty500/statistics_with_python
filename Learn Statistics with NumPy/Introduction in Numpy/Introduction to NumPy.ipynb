{
 "cells": [
  {
   "cell_type": "markdown",
   "metadata": {},
   "source": [
    "# Introduction to NumPy: Numerical Python\n",
    "\n",
    "Sarah records her second-grade class’s grades in an online spreadsheet. Her web browser records that she visited that spreadsheet, in addition to every other site she’s visited. Those sites record her location, the time she spent on them, and where she visited next. The world is chock-full of all sorts of different datasets, and learning how to create, analyze, and manipulate these datasets can give us some insight and control over our digital surroundings.\n",
    "\n",
    "In this lesson, we’ll be constructing and manipulating single-variable datasets. One way to think of a single-variable dataset is that it contains answers to a question. For instance, we might ask 100 people, “How tall are you?” Their heights in inches would form our dataset.\n",
    "\n",
    "To work with our datasets, we’ll be using a powerful Python module known as NumPy, which stands for Numerical Python.\n",
    "\n",
    "NumPy has many uses including:\n",
    "\n",
    "- Efficiently working with many numbers at once\n",
    "- Generating random numbers\n",
    "- Performing many different numerical functions (i.e., calculating sin, cos, tan, mean, median, etc.)\n",
    "\n",
    "In the following exercises, we’ll learn how to construct one- and two-dimensional arrays and perform basic array operations."
   ]
  },
  {
   "cell_type": "code",
   "execution_count": null,
   "metadata": {},
   "outputs": [],
   "source": []
  },
  {
   "cell_type": "markdown",
   "metadata": {},
   "source": [
    "# Working with NumPy\n",
    "\n",
    "NumPy is great at storing and manipulating numerical data in arrays.\n",
    "\n",
    "Let's take a look at an example. Twice Charred in a fictional (mostly) movie review site where four good friends and movie reviewers, Lorie, Marty, Tori, and Kurtz watch movies and give them ratings on a scale of 0 to 100."
   ]
  },
  {
   "cell_type": "code",
   "execution_count": 2,
   "metadata": {},
   "outputs": [],
   "source": [
    "import numpy as np"
   ]
  },
  {
   "cell_type": "markdown",
   "metadata": {},
   "source": [
    " When the gang rates a movie, we can store their ratings in a NumPy array movie_ratings:"
   ]
  },
  {
   "cell_type": "code",
   "execution_count": 7,
   "metadata": {},
   "outputs": [],
   "source": [
    "movie_ratings = np.array([63.0, 54.0, 70.0, 50.0])"
   ]
  },
  {
   "cell_type": "markdown",
   "metadata": {},
   "source": [
    "But they see more than one movie, so we have to create a 2-dimensional array where each row is their ratings for a specific movie."
   ]
  },
  {
   "cell_type": "code",
   "execution_count": 8,
   "metadata": {},
   "outputs": [],
   "source": [
    "\n",
    "movie_ratings = np.array([[63.0, 54.0, 70.0, 50.0],\n",
    "                          [94.0, 85.0, 89.0, 95.0],\n",
    "                          [64.0, 90.0, 73.0, 85.0]])"
   ]
  },
  {
   "cell_type": "code",
   "execution_count": 11,
   "metadata": {},
   "outputs": [
    {
     "data": {
      "text/plain": [
       "array([[3.15, 2.7 , 3.5 , 2.5 ],\n",
       "       [4.7 , 4.25, 4.45, 4.75],\n",
       "       [3.2 , 4.5 , 3.65, 4.25]])"
      ]
     },
     "execution_count": 11,
     "metadata": {},
     "output_type": "execute_result"
    }
   ],
   "source": [
    "movie_ratings_stars = movie_ratings / 20\n",
    "movie_ratings_stars"
   ]
  },
  {
   "cell_type": "markdown",
   "metadata": {},
   "source": [
    "Now let's say the ratings are always in the same order (Lorie, Marty, Tori, Kurtz) if we wanted to create an array that only had Tori's ratings, we could select that from our movie_ratings array."
   ]
  },
  {
   "cell_type": "code",
   "execution_count": 10,
   "metadata": {},
   "outputs": [
    {
     "data": {
      "text/plain": [
       "array([70., 89., 73.])"
      ]
     },
     "execution_count": 10,
     "metadata": {},
     "output_type": "execute_result"
    }
   ],
   "source": [
    "tori_ratings = movie_ratings[:, 2]\n",
    "tori_ratings"
   ]
  },
  {
   "cell_type": "markdown",
   "metadata": {},
   "source": [
    "Now, say we find that we have very similar taste to Marty, so we only want to see movies that he gives a good rating to, we can use logic to select those movies.\n",
    "\n",
    "Let's select all of Marty's ratings that are over 80:"
   ]
  },
  {
   "cell_type": "code",
   "execution_count": 12,
   "metadata": {},
   "outputs": [
    {
     "data": {
      "text/plain": [
       "array([85., 90.])"
      ]
     },
     "execution_count": 12,
     "metadata": {},
     "output_type": "execute_result"
    }
   ],
   "source": [
    "marty_ratings = movie_ratings[:, 1]\n",
    "marty_ratings[marty_ratings > 80]"
   ]
  },
  {
   "cell_type": "code",
   "execution_count": null,
   "metadata": {},
   "outputs": [],
   "source": []
  },
  {
   "cell_type": "markdown",
   "metadata": {},
   "source": [
    "# Importing NumPy\n",
    "To use NumPy with Python, import it at the top of your file using the following line:\n",
    "\n",
    "    import numpy as np\n",
    "Writing as np allows us to use np as a shorthand for NumPy, which saves us time when calling a NumPy function (less typing = fewer errors!)"
   ]
  },
  {
   "cell_type": "code",
   "execution_count": null,
   "metadata": {},
   "outputs": [],
   "source": []
  },
  {
   "cell_type": "markdown",
   "metadata": {},
   "source": [
    "# NumPy Arrays\n",
    "NumPy includes a powerful data structure known as an array. A NumPy array is a special type of list. It’s a data structure that organizes multiple items. Each item can be of any type (strings, numbers, or even other arrays).\n",
    "\n",
    "Arrays are most powerful when they are used to store numbers. This is because arrays give us special ways of performing mathematical operations that are both simpler to write and more efficient computationally. We’ll get more into this later.\n",
    "\n",
    "A NumPy array looks a lot like a Python list:\n",
    "\n",
    "    my_array = np.array([1, 2, 3, 4, 5, 6])\n",
    "    \n",
    "We can transform a regular list into a NumPy array by using np.array() and saving the value to a new variable:\n",
    "\n",
    "    my_list = [1, 2, 3, 4, 5, 6]\n",
    "    my_array = np.array(my_list)"
   ]
  },
  {
   "cell_type": "code",
   "execution_count": null,
   "metadata": {},
   "outputs": [],
   "source": []
  },
  {
   "cell_type": "markdown",
   "metadata": {},
   "source": [
    "# Creating an Array from a CSV\n",
    "Typically, you won’t be entering data directly into an array. Instead, you’ll be importing the data from somewhere else.\n",
    "\n",
    "We’re able to transform CSV (comma-separated values) files into arrays using the np.genfromtxt() function:\n",
    "\n",
    "Consider the following CSV, sample.csv,\n",
    "\n",
    "    34,9,12,11,7\n",
    "    \n",
    "We can import this into a NumPy array using the following code:\n",
    "\n",
    "    csv_array = np.genfromtxt('sample.csv', delimiter=',')\n",
    "    \n",
    "Note that in this case, our file sample.csv has values separated by commas, so we use delimiter=',', but sometimes you’ll find files with other delimiters, the most common being tabs or colons.\n",
    "\n",
    "Once imported, this CSV will create the array\n",
    "\n",
    "    >>> csv_array\n",
    "    array([34, 9, 12, 11, 7])"
   ]
  },
  {
   "cell_type": "code",
   "execution_count": 17,
   "metadata": {},
   "outputs": [
    {
     "data": {
      "text/plain": [
       "array([ 79., 100.,  86.,  93.,  91.])"
      ]
     },
     "execution_count": 17,
     "metadata": {},
     "output_type": "execute_result"
    }
   ],
   "source": [
    "import numpy as np\n",
    "\n",
    "test_1 = np.array([92, 94, 88, 91, 87])\n",
    "\n",
    "test_2 =np.genfromtxt('test_2.csv', delimiter=',')\n",
    "test_2"
   ]
  },
  {
   "cell_type": "code",
   "execution_count": null,
   "metadata": {},
   "outputs": [],
   "source": []
  },
  {
   "cell_type": "markdown",
   "metadata": {},
   "source": [
    "# Operations with NumPy Arrays\n",
    "Generally, NumPy arrays are more efficient than lists. One reason is that they allow you to do element-wise operations. An element-wise operation allows you to quickly perform an operation, such as addition, on each element in an array.\n",
    "\n",
    "Let’s compare how to add a number to each value in a python list versus a NumPy array:\n",
    "\n",
    "    # With a list\n",
    "    l = [1, 2, 3, 4, 5]\n",
    "    l_plus_3 = []\n",
    "    for i in range(len(l)):\n",
    "        l_plus_3.append(l[i] + 3)\n",
    "        \n",
    "    # With an array\n",
    "    a = np.array(l)\n",
    "    a_plus_3 = a + 3\n",
    "    \n",
    "As we can see, if we were to add 3 to every number in a list, we would have to use a for loop or a list comprehension. With an array, we can just add 3. The same is true for subtraction, multiplication, and division.\n",
    "\n",
    "We can also use NumPy Arrays to find the squares or square roots of each value.\n",
    "\n",
    "Squaring each value:\n",
    "\n",
    "    >>> a ** 2\n",
    "    array([ 1,  4,  9, 16, 25, 36])\n",
    "    (Note: ** is the exponent notation in Python. For example, 3 squared can be calculated using 3 ** 2.)\n",
    "\n",
    "Taking the square root of each value:\n",
    "\n",
    "    >>> np.sqrt(a)\n",
    "    array([ 1, 1.41421356, 1.73205081, 2, 2.23606798, 2.44948974])"
   ]
  },
  {
   "cell_type": "code",
   "execution_count": 18,
   "metadata": {},
   "outputs": [
    {
     "name": "stdout",
     "output_type": "stream",
     "text": [
      "[89 87 74 92 94]\n"
     ]
    }
   ],
   "source": [
    "import numpy as np\n",
    "\n",
    "test_1 = np.array([92, 94, 88, 91, 87])\n",
    "test_2 = np.array([79, 100, 86, 93, 91])\n",
    "test_3 = np.array([87, 85, 72, 90, 92])\n",
    "\n",
    "test_3_fixed = test_3 + 2\n",
    "\n",
    "print(test_3_fixed)"
   ]
  },
  {
   "cell_type": "code",
   "execution_count": null,
   "metadata": {},
   "outputs": [],
   "source": []
  },
  {
   "cell_type": "markdown",
   "metadata": {},
   "source": [
    "# Operations with NumPy Arrays II\n",
    "Arrays can also be added to or subtracted from each other in NumPy, assuming the arrays have the same number of elements.\n",
    "\n",
    "When adding or subtracting arrays in NumPy, each element will be added/subtracted to its matching element.\n",
    "\n",
    "    >>> a = np.array([1, 2, 3, 4, 5])\n",
    "    >>> b = np.array([6, 7, 8, 9, 10])\n",
    "    >>> a + b\n",
    "    array([ 7,  9, 11, 13, 15])"
   ]
  },
  {
   "cell_type": "code",
   "execution_count": 22,
   "metadata": {},
   "outputs": [
    {
     "name": "stdout",
     "output_type": "stream",
     "text": [
      "[86.66666667 93.66666667 82.66666667 92.         90.66666667]\n"
     ]
    }
   ],
   "source": [
    "import numpy as np\n",
    "\n",
    "test_1 = np.array([92, 94, 88, 91, 87])\n",
    "test_2 = np.array([79, 100, 86, 93, 91])\n",
    "test_3 = np.array([87, 85, 72, 90, 92])\n",
    "test_3_fixed = test_3 + 2\n",
    "\n",
    "total_grade =test_1 + test_2 + test_3_fixed\n",
    "\n",
    "final_grade = total_grade/3\n",
    "\n",
    "print(final_grade)"
   ]
  },
  {
   "cell_type": "code",
   "execution_count": null,
   "metadata": {},
   "outputs": [],
   "source": []
  },
  {
   "cell_type": "markdown",
   "metadata": {},
   "source": [
    "# Two-Dimensional Arrays\n",
    "\n",
    "In Python, we can create lists that are made up of other lists. Similarly, in NumPy we can create an array of arrays. If the arrays that make up our bigger array are all the same size, then it has a special name: a two-dimensional array.\n",
    "\n",
    "In the previous exercises we had stored the students’ test scores in separate one-dimensional arrays for each test:\n",
    "\n",
    "    test_1 = np.array([92, 94, 88, 91, 87])\n",
    "    test_2 = np.array([79, 100, 86, 93, 91])\n",
    "    test_3 = np.array([87, 85, 72, 90, 92])\n",
    "    \n",
    "But we could have also stored all of this data in a single, two-dimensional array:\n",
    "\n",
    "    np.array([[92, 94, 88, 91, 87], \n",
    "              [79, 100, 86, 93, 91],\n",
    "              [87, 85, 72, 90, 92]])\n",
    "              \n",
    "Here, each row represents a test, and each column represents a student. This allows us to store all of our data in a single array without losing any of its organization.\n",
    "\n",
    "As we mentioned, a two-dimensional array is a list of lists where each list has the same number of elements. Here are some examples that are not two-dimensional arrays.\n",
    "\n",
    "This code will run but it will not create a two-dimensional array because the lists have different numbers of elements:\n",
    "\n",
    "    np.array([[29, 49,  6], \n",
    "              [77,  1]])\n",
    "              \n",
    "This code will not run because the [] for the outer lists are missing:\n",
    "\n",
    "    np.array([68, 16, 73],\n",
    "             [61, 79, 30])"
   ]
  },
  {
   "cell_type": "markdown",
   "metadata": {},
   "source": [
    "# Instructions\n",
    "1.\n",
    "In statistics, we often use two-dimensional arrays to represent a set of samples. For instance, if we flip a coin we can represent each head as a 1 and each tail as a 0.\n",
    "\n",
    "Create a one-dimensional array for a coin toss experiment that results in heads, tails, tails, heads, tails, and save it to the variable coin_toss.\n",
    "\n",
    "\n",
    "2.\n",
    "We run the experiment again and get the following outcome: tails, tails, heads, heads, heads. Create a new array that represents both outcomes as a single experiment. Save the new array to coin_toss_again."
   ]
  },
  {
   "cell_type": "code",
   "execution_count": 23,
   "metadata": {},
   "outputs": [],
   "source": [
    "import numpy as np\n",
    "\n",
    "coin_toss = np.array([1, 0, 0, 1, 0])\n",
    "\n",
    "coin_toss_again = np.array([[1, 0, 0, 1, 0], [0, 0, 1, 1, 1]])"
   ]
  },
  {
   "cell_type": "code",
   "execution_count": null,
   "metadata": {},
   "outputs": [],
   "source": []
  },
  {
   "cell_type": "markdown",
   "metadata": {},
   "source": [
    "# Selecting Elements from a 1-D Array\n",
    "NumPy allows us to select elements from an array using their indices. Consider the one-dimensional array\n",
    "\n",
    "    a = np.array([5, 2, 7, 0, 11])\n",
    "    \n",
    "If we wanted to select the first element in this array, we would call:\n",
    "\n",
    "    >>> a[0]\n",
    "    5 \n",
    "    \n",
    "In typical Python fashion, the indices for an array start at 0. This is known as zero-indexed numbering. In the array above, 5 is known as the zeroth element, a[0]. It follows that 2 is the first element, a[1].\n",
    "\n",
    "We can also select negative indices, which count from opposite end of the array and start at -1. This is particularly useful when you want to access the last element or two of an array:\n",
    "\n",
    "    >>> a[-1]\n",
    "    11\n",
    "    >>> a[-2]\n",
    "    0\n",
    "    \n",
    "If we wanted to select multiple elements in the array, we can define a range, such as a[1:3], which will select all the elements from a[1] to a[3], including a[1] but excluding a[3].\n",
    "\n",
    "    >>> a[1:3]\n",
    "    array([2, 7])\n",
    "    \n",
    "Similarly, if we wanted to select all elements before a[3] we would use:\n",
    "\n",
    "    >>> a[:3]\n",
    "    array([5, 2, 7])\n",
    "\n",
    "We can also use negative indices to select multiple elements. Let’s say we want to select the last 3 elements in an array:\n",
    "\n",
    "    >>> a[-3:]\n",
    "    array([7, 0, 11])\n",
    "    \n",
    "Notice that when we select multiple elements, we get an array."
   ]
  },
  {
   "cell_type": "code",
   "execution_count": null,
   "metadata": {},
   "outputs": [],
   "source": []
  },
  {
   "cell_type": "code",
   "execution_count": 25,
   "metadata": {},
   "outputs": [
    {
     "data": {
      "text/plain": [
       "array([94, 88])"
      ]
     },
     "execution_count": 25,
     "metadata": {},
     "output_type": "execute_result"
    }
   ],
   "source": [
    "import numpy as np\n",
    "\n",
    "test_1 = np.array([92, 94, 88, 91, 87])\n",
    "test_2 = np.array([79, 100, 86, 93, 91])\n",
    "test_3 = np.array([87, 85, 72, 90, 92])\n",
    "\n",
    "jeremy_test_2 = test_2[3]\n",
    "\n",
    "manual_adwoa_test_1 = test_1[1:3]\n",
    "\n",
    "manual_adwoa_test_1"
   ]
  },
  {
   "cell_type": "code",
   "execution_count": null,
   "metadata": {},
   "outputs": [],
   "source": []
  },
  {
   "cell_type": "markdown",
   "metadata": {},
   "source": [
    "# Selecting Elements from a 2-D Array\n",
    "\n",
    "Selecting elements from a 2-d array is very similar to selecting them from a 1-d array, we just have two indices to select from. The syntax for selecting from a 2-d array is a[row,column] where a is the array.\n",
    "\n",
    "It’s important to note that when we work with arrays that have more than one dimension, the relationship between the interior arrays is defined in terms of axes. A two-dimensional array has two axes: axis 0 represents the values that share the same indexical position (are in the same column), and axis 1 represents the values that share an array (are in the same row). This is illustrated below.\n",
    "\n",
    "<img src='images/NumPy+Array+fixed.svg' width=400>\n",
    "\n",
    "Diagram showing the axes in an array\n",
    "\n",
    "Consider the array\n",
    "\n",
    "    a = np.array([[32, 15, 6, 9, 14], \n",
    "                  [12, 10, 5, 23, 1],\n",
    "                  [2, 16, 13, 40, 37]])\n",
    "                  \n",
    "We can select specific elements using their indices:\n",
    "\n",
    "    >>> a[2,1]\n",
    "    16\n",
    "    \n",
    "Let’s say we wanted to select an entire column, we can insert : as the row index:\n",
    "\n",
    "    # selects the first column\n",
    "    >>> a[:,0]\n",
    "    array([32, 12,  2])\n",
    "    \n",
    "The same works if we want to select an entire row:\n",
    "\n",
    "    # selects the second row\n",
    "    >>> a[1,:]\n",
    "    array([12, 10,  5, 23,  1])\n",
    "    \n",
    "We can further narrow it down and select a range from a specific row:\n",
    "\n",
    "    # selects the first three elements of the first row\n",
    "    >>> a[0,0:3]\n",
    "    array([32, 15,  6])"
   ]
  },
  {
   "cell_type": "code",
   "execution_count": 26,
   "metadata": {},
   "outputs": [
    {
     "name": "stdout",
     "output_type": "stream",
     "text": [
      "87\n",
      "[87 91 92]\n"
     ]
    }
   ],
   "source": [
    "import numpy as np\n",
    "\n",
    "student_scores = np.array([[92, 94, 88, 91, 87],\n",
    "                           [79, 100, 86, 93, 91],\n",
    "                           [87, 85, 72, 90, 92]])\n",
    "\n",
    "\n",
    "\n",
    "tanya_test_3= student_scores[2,0]\n",
    "cody_test_scores = student_scores[:,4]\n",
    "\n",
    "print(tanya_test_3)\n",
    "print(cody_test_scores)"
   ]
  },
  {
   "cell_type": "code",
   "execution_count": null,
   "metadata": {},
   "outputs": [],
   "source": []
  },
  {
   "cell_type": "markdown",
   "metadata": {},
   "source": [
    "# Logical Operations with Arrays\n",
    "\n",
    "Another useful thing that arrays can do is perform element-wise logical operations. For instance, suppose we want to know how many elements in an array are greater than 5. We can easily write some code that checks to see whether this statement evaluates to True for each item in the array, without having to use a for loop :\n",
    "\n",
    "    >>> a = np.array([10, 2, 2, 4, 5, 3, 9, 8, 9, 7])\n",
    "    >>> a > 5\n",
    "    array([True, False, False, False, False, False, True, True, True, True], dtype=bool)\n",
    "    \n",
    "We can then use logical operators to evaluate and select items based on certain criteria. To select all elements from the previous array that are greater than 5, we’d write the following:\n",
    "\n",
    "    >>> a[a > 5]\n",
    "    array([10, 9, 8, 9, 7])\n",
    "    \n",
    "We can also combine logical statements to further specify our criteria. To do so, we place each statement in parentheses and use boolean operators like & (and) and | (or).\n",
    "\n",
    "In our example, we can use combined statements to find the elements that are greater than five or less than two:\n",
    "\n",
    "    >>> a[(a > 5) | (a < 2)]\n",
    "    array([10, 9, 8, 9, 7])"
   ]
  },
  {
   "cell_type": "markdown",
   "metadata": {},
   "source": [
    "# Instructions\n",
    "1.\n",
    "Today we’re visiting the Goldilocks Porridge Festival, sampling a selection of breakfast cereals and judging them based on their temperature (listed in Fahrenheit).\n",
    "\n",
    "Create a logical condition that selects samples in the porridge array that are less than 60, and save them to a variable named cold.\n",
    "\n",
    "\n",
    "2.\n",
    "Create a logical condition that finds all the samples that are higher than 80 and save them to a variable named hot.\n",
    "\n",
    "\n",
    "3.\n",
    "Create a logical condition that finds all the samples that are between 60 and 80 and save them to a variable named just_right.\n",
    "\n",
    "\n",
    "4.\n",
    "Print each array to the terminal."
   ]
  },
  {
   "cell_type": "code",
   "execution_count": 27,
   "metadata": {},
   "outputs": [
    {
     "name": "stdout",
     "output_type": "stream",
     "text": [
      "[50 56 51]\n",
      "[90 85 98]\n",
      "[79 65 63 79]\n"
     ]
    }
   ],
   "source": [
    "import numpy as np\n",
    "\n",
    "porridge = np.array([79, 65, 50, 63, 56, 90, 85, 98, 79, 51])\n",
    "\n",
    "cold = porridge[porridge < 60]\n",
    "\n",
    "hot = porridge[porridge > 80]\n",
    "\n",
    "just_right = porridge[(porridge > 60) & (porridge < 80)]\n",
    "\n",
    "print(cold)\n",
    "print(hot)\n",
    "print(just_right)"
   ]
  },
  {
   "cell_type": "code",
   "execution_count": null,
   "metadata": {},
   "outputs": [],
   "source": []
  },
  {
   "cell_type": "markdown",
   "metadata": {},
   "source": [
    "# Review\n",
    "Let’s take a second and review. In this lesson, you learned the basics of the NumPy package. Here are some key points:\n",
    "\n",
    "- Arrays are a special type of list that allows us to store values in an organized manner.\n",
    "\n",
    "- An array can be created by either defining it directly using np.array() or by importing a CSV using np.genfromtxt('file.csv', delimiter=',').\n",
    "\n",
    "- An operation (such as addition) can be performed on every element in an array by simply performing it on the array itself.\n",
    "- Elements can be selected from arrays using their index and array locations, both of which start at 0.\n",
    "\n",
    "- Logical operations can be used to create new, more focused arrays out of larger arrays.\n",
    "\n",
    "The next lesson will explore how to analyze these arrays and use means, medians, and standard deviations to tell a story. \n",
    "But first, practice what you’ve learned by working through the following checkpoints."
   ]
  },
  {
   "cell_type": "code",
   "execution_count": null,
   "metadata": {},
   "outputs": [],
   "source": []
  }
 ],
 "metadata": {
  "kernelspec": {
   "display_name": "Python 3",
   "language": "python",
   "name": "python3"
  },
  "language_info": {
   "codemirror_mode": {
    "name": "ipython",
    "version": 3
   },
   "file_extension": ".py",
   "mimetype": "text/x-python",
   "name": "python",
   "nbconvert_exporter": "python",
   "pygments_lexer": "ipython3",
   "version": "3.7.3"
  }
 },
 "nbformat": 4,
 "nbformat_minor": 2
}
