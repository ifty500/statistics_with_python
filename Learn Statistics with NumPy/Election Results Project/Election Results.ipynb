{
 "cells": [
  {
   "cell_type": "markdown",
   "metadata": {},
   "source": [
    "# Election Results\n",
    "You’re part of an impartial research group that conducts phone surveys prior to local elections. During this election season, the group conducted a survey to determine how many people would vote for Cynthia Ceballos vs. Justin Kerrigan in the mayoral election.\n",
    "\n",
    "Now that the election has occurred, your group wants to compare the survey responses to the actual results.\n",
    "\n",
    "Was your survey a good indicator? Let’s find out!"
   ]
  },
  {
   "cell_type": "markdown",
   "metadata": {},
   "source": [
    "# PROJECT STEPS\n",
    "1.\n",
    "First, import numpy and matplotlib.\n",
    "\n",
    "2.\n",
    "\n",
    "\n",
    "Calculate the number of people who answered ‘Ceballos’ and save the answer to the variable total_ceballos.\n",
    "\n",
    "Print the variable to the terminal to see its value.\n",
    "\n",
    "\n",
    "\n",
    "3.\n",
    "Calculate the percentage of people in the survey who voted for Ceballos and save it to the variable percentage_ceballos.\n",
    "\n",
    "Print the variable to the terminal to see its value.\n",
    "\n",
    "\n",
    "\n",
    "4.\n",
    "In the real election, 54% of the 10,000 town population voted for Cynthia Ceballos. Your supervisors are concerned because this is a very different outcome than what the poll predicted. They want you to determine if there is something wrong with the poll or if given the sample size, it was an entirely reasonable result.\n",
    "\n",
    "Generate a binomial distribution that takes the number of total survey responses, the actual success rate, and the size of the town’s population as its parameters. Then divide the distribution by the number of survey responses. Save your calculation to the variable possible_surveys.\n",
    "\n",
    "\n",
    "\n",
    "5.\n",
    "Plot a histogram of possible_surveys with a range of 0-1 and 20 bins.\n",
    "\n",
    "\n",
    "\n",
    "6.\n",
    "As we saw, 47% of people we surveyed said they would vote for Ceballos, but 54% of people voted for Ceballos in the actual election.\n",
    "\n",
    "Calculate the percentage of surveys that could have an outcome of Ceballos receiving less than 50% of the vote and save it to the variable ceballos_loss_surveys.\n",
    "\n",
    "Print the variable to the terminal.\n",
    "\n",
    "\n",
    "\n",
    "7.\n",
    "With this current poll, about 20% of the time a survey output would predict Kerrigan winning, even if Ceballos won the actual election.\n",
    "\n",
    "Your co-worker points out that your poll would be more accurate if it had more responders.\n",
    "\n",
    "Generate another binomial distribution, but this time, see what would happen if you had instead surveyed 7,000 people. Divide the distribution by the size of the survey and save your findings to large_survey.\n",
    "\n",
    "8.\n",
    "Now, recalculate the percentage of surveys that would have an outcome of Ceballos losing and save it to the variable ceballos_loss_new, and print the value to the terminal.\n",
    "\n",
    "What do we notice about this new value?\n",
    "\n",
    "What advice would you give to your supervisors about predicting results from surveys?"
   ]
  },
  {
   "cell_type": "code",
   "execution_count": 2,
   "metadata": {},
   "outputs": [
    {
     "name": "stdout",
     "output_type": "stream",
     "text": [
      "33\n",
      "0.4714285714285714\n",
      "0.2102\n",
      "0.0\n"
     ]
    },
    {
     "data": {
      "image/png": "[encoded data removed]",
      "text/plain": [
       "<Figure size 432x288 with 1 Axes>"
      ]
     },
     "metadata": {
      "needs_background": "light"
     },
     "output_type": "display_data"
    }
   ],
   "source": [
    "\n",
    "import numpy as np\n",
    "import matplotlib.pyplot as plt\n",
    "\n",
    "survey_responses = ['Ceballos', 'Kerrigan', 'Ceballos', 'Ceballos', 'Ceballos','Kerrigan', 'Kerrigan', 'Ceballos', 'Ceballos', 'Ceballos', \n",
    "'Kerrigan', 'Kerrigan', 'Ceballos', 'Ceballos', 'Kerrigan', 'Kerrigan', 'Ceballos', 'Ceballos', 'Kerrigan', 'Kerrigan', 'Kerrigan', 'Kerrigan', 'Kerrigan', 'Kerrigan', 'Ceballos', 'Ceballos', 'Ceballos', 'Ceballos', 'Ceballos', 'Ceballos',\n",
    "'Kerrigan', 'Kerrigan', 'Ceballos', 'Ceballos', 'Ceballos', 'Kerrigan', 'Kerrigan', 'Ceballos', 'Ceballos', 'Kerrigan', 'Kerrigan', 'Ceballos', 'Ceballos', 'Kerrigan', 'Kerrigan', 'Kerrigan', 'Kerrigan', 'Kerrigan', 'Kerrigan', 'Ceballos',\n",
    "'Kerrigan', 'Kerrigan', 'Ceballos', 'Ceballos', 'Ceballos', 'Kerrigan', 'Kerrigan', 'Ceballos', 'Ceballos', 'Kerrigan', 'Kerrigan', 'Ceballos', 'Ceballos', 'Kerrigan', 'Kerrigan', 'Kerrigan', 'Kerrigan', 'Kerrigan', 'Kerrigan', 'Ceballos']\n",
    "\n",
    "\n",
    "total_ceballos = sum([1 for n in survey_responses if n == 'Ceballos'])\n",
    "print(total_ceballos)\n",
    "survey_length =float(len(survey_responses))\n",
    "percentage_ceballos = total_ceballos/survey_length\n",
    "\n",
    "print(percentage_ceballos)\n",
    "\n",
    "possible_surveys = np.random.binomial(survey_length,.54,10000)/survey_length\n",
    "\n",
    "plt.hist(possible_surveys, range=(0,1), bins=20)\n",
    "\n",
    "\n",
    "possible_survey_length = float(len(possible_surveys))\n",
    "\n",
    "incorrect_prediction = len(possible_surveys[possible_surveys < .5])\n",
    "\n",
    "ceballos_loss_surveys = incorrect_prediction/possible_survey_length\n",
    "print(ceballos_loss_surveys)\n",
    "\n",
    "large_survey_length= 7000.0\n",
    "\n",
    "large_survey = np.random.binomial(large_survey_length,.54,10000)/large_survey_length\n",
    "\n",
    "plt.hist(large_survey,range=(0,1), bins=20, alpha=.5)\n",
    "\n",
    "incorrect_predictions = len(large_survey[large_survey < .5])\n",
    "\n",
    "ceballos_loss_new=incorrect_predictions/large_survey_length\n",
    "print(ceballos_loss_new)\n",
    "\n",
    "plt.show()\n"
   ]
  },
  {
   "cell_type": "code",
   "execution_count": null,
   "metadata": {},
   "outputs": [],
   "source": []
  }
 ],
 "metadata": {
  "kernelspec": {
   "display_name": "Python 3",
   "language": "python",
   "name": "python3"
  },
  "language_info": {
   "codemirror_mode": {
    "name": "ipython",
    "version": 3
   },
   "file_extension": ".py",
   "mimetype": "text/x-python",
   "name": "python",
   "nbconvert_exporter": "python",
   "pygments_lexer": "ipython3",
   "version": "3.7.3"
  }
 },
 "nbformat": 4,
 "nbformat_minor": 2
}
